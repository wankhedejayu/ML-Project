{
 "cells": [
  {
   "cell_type": "markdown",
   "id": "cdf3eb18-4870-4b65-a9e2-a4cc239220bc",
   "metadata": {},
   "source": [
    "# 1) Import Libraries"
   ]
  },
  {
   "cell_type": "code",
   "execution_count": 1,
   "id": "461ac17d-e75c-4e04-8e61-88bdf3050d23",
   "metadata": {},
   "outputs": [],
   "source": [
    "from sklearn.metrics import accuracy_score\n",
    "from sklearn.linear_model import LogisticRegression\n",
    "from sklearn.linear_model import LinearRegression\n",
    "from sklearn.model_selection import train_test_split\n",
    "import numpy as np\n",
    "import seaborn as sns\n",
    "import pandas as pd\n",
    "import matplotlib.pyplot as plt\n",
    "import warnings\n",
    "warnings.filterwarnings(\"ignore\")"
   ]
  },
  {
   "cell_type": "markdown",
   "id": "bce06515-ab3c-4981-894b-a9c0dc4d7ba8",
   "metadata": {},
   "source": [
    "# 2) Import Data\n",
    "* By using read csv function of pandas we have taken Invistico_Airline file"
   ]
  },
  {
   "cell_type": "code",
   "execution_count": 2,
   "id": "ed51792a-1961-402f-b6d1-0219bab9dd44",
   "metadata": {},
   "outputs": [],
   "source": [
    "df = pd.read_csv(\"Invistico_Airline.csv\") "
   ]
  },
  {
   "cell_type": "markdown",
   "id": "aad1b6a1-9f0d-4f64-a19f-7cce099063b7",
   "metadata": {},
   "source": [
    "# 3) Make a copy of data\n",
    "* After import data file we have to copy that file.\n",
    "* By using copy function , we copy that file into df for our data as remain as same(Primary Task)\n"
   ]
  },
  {
   "cell_type": "code",
   "execution_count": 3,
   "id": "7d45dd64-c5a4-4dc2-8a42-4690c97e865e",
   "metadata": {},
   "outputs": [],
   "source": [
    "df = df.copy()"
   ]
  },
  {
   "cell_type": "markdown",
   "id": "b56ee7dc-f928-4f65-a280-f81596e9b16f",
   "metadata": {},
   "source": [
    "* Here we use df.head method.\r",
    "* This method is used to display the first few rows of DataFramea"
   ]
  },
  {
   "cell_type": "code",
   "execution_count": 4,
   "id": "be73dacb-7fd9-4f82-9ad1-941002dbed16",
   "metadata": {},
   "outputs": [
    {
     "data": {
      "text/html": [
       "<div>\n",
       "<style scoped>\n",
       "    .dataframe tbody tr th:only-of-type {\n",
       "        vertical-align: middle;\n",
       "    }\n",
       "\n",
       "    .dataframe tbody tr th {\n",
       "        vertical-align: top;\n",
       "    }\n",
       "\n",
       "    .dataframe thead th {\n",
       "        text-align: right;\n",
       "    }\n",
       "</style>\n",
       "<table border=\"1\" class=\"dataframe\">\n",
       "  <thead>\n",
       "    <tr style=\"text-align: right;\">\n",
       "      <th></th>\n",
       "      <th>satisfaction</th>\n",
       "      <th>Gender</th>\n",
       "      <th>Customer Type</th>\n",
       "      <th>Age</th>\n",
       "      <th>Type of Travel</th>\n",
       "      <th>Class</th>\n",
       "      <th>Flight Distance</th>\n",
       "      <th>Seat comfort</th>\n",
       "      <th>Departure/Arrival time convenient</th>\n",
       "      <th>Food and drink</th>\n",
       "      <th>...</th>\n",
       "      <th>Online support</th>\n",
       "      <th>Ease of Online booking</th>\n",
       "      <th>On-board service</th>\n",
       "      <th>Leg room service</th>\n",
       "      <th>Baggage handling</th>\n",
       "      <th>Checkin service</th>\n",
       "      <th>Cleanliness</th>\n",
       "      <th>Online boarding</th>\n",
       "      <th>Departure Delay in Minutes</th>\n",
       "      <th>Arrival Delay in Minutes</th>\n",
       "    </tr>\n",
       "  </thead>\n",
       "  <tbody>\n",
       "    <tr>\n",
       "      <th>0</th>\n",
       "      <td>satisfied</td>\n",
       "      <td>Female</td>\n",
       "      <td>Loyal Customer</td>\n",
       "      <td>65</td>\n",
       "      <td>Personal Travel</td>\n",
       "      <td>Eco</td>\n",
       "      <td>265</td>\n",
       "      <td>0</td>\n",
       "      <td>0</td>\n",
       "      <td>0</td>\n",
       "      <td>...</td>\n",
       "      <td>2</td>\n",
       "      <td>3</td>\n",
       "      <td>3</td>\n",
       "      <td>0</td>\n",
       "      <td>3</td>\n",
       "      <td>5</td>\n",
       "      <td>3</td>\n",
       "      <td>2</td>\n",
       "      <td>0</td>\n",
       "      <td>0.0</td>\n",
       "    </tr>\n",
       "    <tr>\n",
       "      <th>1</th>\n",
       "      <td>satisfied</td>\n",
       "      <td>Male</td>\n",
       "      <td>Loyal Customer</td>\n",
       "      <td>47</td>\n",
       "      <td>Personal Travel</td>\n",
       "      <td>Business</td>\n",
       "      <td>2464</td>\n",
       "      <td>0</td>\n",
       "      <td>0</td>\n",
       "      <td>0</td>\n",
       "      <td>...</td>\n",
       "      <td>2</td>\n",
       "      <td>3</td>\n",
       "      <td>4</td>\n",
       "      <td>4</td>\n",
       "      <td>4</td>\n",
       "      <td>2</td>\n",
       "      <td>3</td>\n",
       "      <td>2</td>\n",
       "      <td>310</td>\n",
       "      <td>305.0</td>\n",
       "    </tr>\n",
       "    <tr>\n",
       "      <th>2</th>\n",
       "      <td>satisfied</td>\n",
       "      <td>Female</td>\n",
       "      <td>Loyal Customer</td>\n",
       "      <td>15</td>\n",
       "      <td>Personal Travel</td>\n",
       "      <td>Eco</td>\n",
       "      <td>2138</td>\n",
       "      <td>0</td>\n",
       "      <td>0</td>\n",
       "      <td>0</td>\n",
       "      <td>...</td>\n",
       "      <td>2</td>\n",
       "      <td>2</td>\n",
       "      <td>3</td>\n",
       "      <td>3</td>\n",
       "      <td>4</td>\n",
       "      <td>4</td>\n",
       "      <td>4</td>\n",
       "      <td>2</td>\n",
       "      <td>0</td>\n",
       "      <td>0.0</td>\n",
       "    </tr>\n",
       "    <tr>\n",
       "      <th>3</th>\n",
       "      <td>satisfied</td>\n",
       "      <td>Female</td>\n",
       "      <td>Loyal Customer</td>\n",
       "      <td>60</td>\n",
       "      <td>Personal Travel</td>\n",
       "      <td>Eco</td>\n",
       "      <td>623</td>\n",
       "      <td>0</td>\n",
       "      <td>0</td>\n",
       "      <td>0</td>\n",
       "      <td>...</td>\n",
       "      <td>3</td>\n",
       "      <td>1</td>\n",
       "      <td>1</td>\n",
       "      <td>0</td>\n",
       "      <td>1</td>\n",
       "      <td>4</td>\n",
       "      <td>1</td>\n",
       "      <td>3</td>\n",
       "      <td>0</td>\n",
       "      <td>0.0</td>\n",
       "    </tr>\n",
       "    <tr>\n",
       "      <th>4</th>\n",
       "      <td>satisfied</td>\n",
       "      <td>Female</td>\n",
       "      <td>Loyal Customer</td>\n",
       "      <td>70</td>\n",
       "      <td>Personal Travel</td>\n",
       "      <td>Eco</td>\n",
       "      <td>354</td>\n",
       "      <td>0</td>\n",
       "      <td>0</td>\n",
       "      <td>0</td>\n",
       "      <td>...</td>\n",
       "      <td>4</td>\n",
       "      <td>2</td>\n",
       "      <td>2</td>\n",
       "      <td>0</td>\n",
       "      <td>2</td>\n",
       "      <td>4</td>\n",
       "      <td>2</td>\n",
       "      <td>5</td>\n",
       "      <td>0</td>\n",
       "      <td>0.0</td>\n",
       "    </tr>\n",
       "  </tbody>\n",
       "</table>\n",
       "<p>5 rows × 23 columns</p>\n",
       "</div>"
      ],
      "text/plain": [
       "  satisfaction  Gender   Customer Type  Age   Type of Travel     Class  \\\n",
       "0    satisfied  Female  Loyal Customer   65  Personal Travel       Eco   \n",
       "1    satisfied    Male  Loyal Customer   47  Personal Travel  Business   \n",
       "2    satisfied  Female  Loyal Customer   15  Personal Travel       Eco   \n",
       "3    satisfied  Female  Loyal Customer   60  Personal Travel       Eco   \n",
       "4    satisfied  Female  Loyal Customer   70  Personal Travel       Eco   \n",
       "\n",
       "   Flight Distance  Seat comfort  Departure/Arrival time convenient  \\\n",
       "0              265             0                                  0   \n",
       "1             2464             0                                  0   \n",
       "2             2138             0                                  0   \n",
       "3              623             0                                  0   \n",
       "4              354             0                                  0   \n",
       "\n",
       "   Food and drink  ...  Online support  Ease of Online booking  \\\n",
       "0               0  ...               2                       3   \n",
       "1               0  ...               2                       3   \n",
       "2               0  ...               2                       2   \n",
       "3               0  ...               3                       1   \n",
       "4               0  ...               4                       2   \n",
       "\n",
       "   On-board service  Leg room service  Baggage handling  Checkin service  \\\n",
       "0                 3                 0                 3                5   \n",
       "1                 4                 4                 4                2   \n",
       "2                 3                 3                 4                4   \n",
       "3                 1                 0                 1                4   \n",
       "4                 2                 0                 2                4   \n",
       "\n",
       "   Cleanliness  Online boarding  Departure Delay in Minutes  \\\n",
       "0            3                2                           0   \n",
       "1            3                2                         310   \n",
       "2            4                2                           0   \n",
       "3            1                3                           0   \n",
       "4            2                5                           0   \n",
       "\n",
       "   Arrival Delay in Minutes  \n",
       "0                       0.0  \n",
       "1                     305.0  \n",
       "2                       0.0  \n",
       "3                       0.0  \n",
       "4                       0.0  \n",
       "\n",
       "[5 rows x 23 columns]"
      ]
     },
     "execution_count": 4,
     "metadata": {},
     "output_type": "execute_result"
    }
   ],
   "source": [
    "df.head()"
   ]
  },
  {
   "cell_type": "markdown",
   "id": "8278689a-7509-4719-89db-47ca1e626a30",
   "metadata": {},
   "source": [
    "# 4) To check the Information of Data\n",
    "* df.info method provides the concise(descriptive) summary of the DataFrame.\n",
    "* n that includes the data types, non-null value and memory usage.\n",
    "* Output:- From that method, we can see that the number of columns present in dataframe, type of data, memory usage information.\n",
    "* We see the null values in Arrival Delay in Minutes.\n"
   ]
  },
  {
   "cell_type": "code",
   "execution_count": 5,
   "id": "4f6b0374-0e52-488b-8bcd-8d3f65411ef5",
   "metadata": {},
   "outputs": [
    {
     "name": "stdout",
     "output_type": "stream",
     "text": [
      "<class 'pandas.core.frame.DataFrame'>\n",
      "RangeIndex: 129880 entries, 0 to 129879\n",
      "Data columns (total 23 columns):\n",
      " #   Column                             Non-Null Count   Dtype  \n",
      "---  ------                             --------------   -----  \n",
      " 0   satisfaction                       129880 non-null  object \n",
      " 1   Gender                             129880 non-null  object \n",
      " 2   Customer Type                      129880 non-null  object \n",
      " 3   Age                                129880 non-null  int64  \n",
      " 4   Type of Travel                     129880 non-null  object \n",
      " 5   Class                              129880 non-null  object \n",
      " 6   Flight Distance                    129880 non-null  int64  \n",
      " 7   Seat comfort                       129880 non-null  int64  \n",
      " 8   Departure/Arrival time convenient  129880 non-null  int64  \n",
      " 9   Food and drink                     129880 non-null  int64  \n",
      " 10  Gate location                      129880 non-null  int64  \n",
      " 11  Inflight wifi service              129880 non-null  int64  \n",
      " 12  Inflight entertainment             129880 non-null  int64  \n",
      " 13  Online support                     129880 non-null  int64  \n",
      " 14  Ease of Online booking             129880 non-null  int64  \n",
      " 15  On-board service                   129880 non-null  int64  \n",
      " 16  Leg room service                   129880 non-null  int64  \n",
      " 17  Baggage handling                   129880 non-null  int64  \n",
      " 18  Checkin service                    129880 non-null  int64  \n",
      " 19  Cleanliness                        129880 non-null  int64  \n",
      " 20  Online boarding                    129880 non-null  int64  \n",
      " 21  Departure Delay in Minutes         129880 non-null  int64  \n",
      " 22  Arrival Delay in Minutes           129487 non-null  float64\n",
      "dtypes: float64(1), int64(17), object(5)\n",
      "memory usage: 22.8+ MB\n"
     ]
    }
   ],
   "source": [
    "df.info()"
   ]
  },
  {
   "cell_type": "markdown",
   "id": "93676fd2-781a-4446-aa49-f2e8b4fc24d4",
   "metadata": {},
   "source": [
    "# Use of Describe Function\n",
    "* This function is used to check the information about the descriptive statistic of numerical column.\n",
    "* by using this function we can assume that the data is normally distributed or not.\n",
    "* Output:- Summary statisics for each numerical column including count, mean,standard deviation, minimum, maximum and various quantile.\n",
    "* This is Valuable for Distribuion of data."
   ]
  },
  {
   "cell_type": "code",
   "execution_count": 6,
   "id": "14f72fc6-e750-4015-9d3a-ab89173a1eb0",
   "metadata": {},
   "outputs": [
    {
     "data": {
      "text/html": [
       "<div>\n",
       "<style scoped>\n",
       "    .dataframe tbody tr th:only-of-type {\n",
       "        vertical-align: middle;\n",
       "    }\n",
       "\n",
       "    .dataframe tbody tr th {\n",
       "        vertical-align: top;\n",
       "    }\n",
       "\n",
       "    .dataframe thead th {\n",
       "        text-align: right;\n",
       "    }\n",
       "</style>\n",
       "<table border=\"1\" class=\"dataframe\">\n",
       "  <thead>\n",
       "    <tr style=\"text-align: right;\">\n",
       "      <th></th>\n",
       "      <th>Age</th>\n",
       "      <th>Flight Distance</th>\n",
       "      <th>Seat comfort</th>\n",
       "      <th>Departure/Arrival time convenient</th>\n",
       "      <th>Food and drink</th>\n",
       "      <th>Gate location</th>\n",
       "      <th>Inflight wifi service</th>\n",
       "      <th>Inflight entertainment</th>\n",
       "      <th>Online support</th>\n",
       "      <th>Ease of Online booking</th>\n",
       "      <th>On-board service</th>\n",
       "      <th>Leg room service</th>\n",
       "      <th>Baggage handling</th>\n",
       "      <th>Checkin service</th>\n",
       "      <th>Cleanliness</th>\n",
       "      <th>Online boarding</th>\n",
       "      <th>Departure Delay in Minutes</th>\n",
       "      <th>Arrival Delay in Minutes</th>\n",
       "    </tr>\n",
       "  </thead>\n",
       "  <tbody>\n",
       "    <tr>\n",
       "      <th>count</th>\n",
       "      <td>129880.000000</td>\n",
       "      <td>129880.000000</td>\n",
       "      <td>129880.000000</td>\n",
       "      <td>129880.000000</td>\n",
       "      <td>129880.000000</td>\n",
       "      <td>129880.000000</td>\n",
       "      <td>129880.000000</td>\n",
       "      <td>129880.000000</td>\n",
       "      <td>129880.000000</td>\n",
       "      <td>129880.000000</td>\n",
       "      <td>129880.000000</td>\n",
       "      <td>129880.000000</td>\n",
       "      <td>129880.000000</td>\n",
       "      <td>129880.000000</td>\n",
       "      <td>129880.000000</td>\n",
       "      <td>129880.000000</td>\n",
       "      <td>129880.000000</td>\n",
       "      <td>129487.000000</td>\n",
       "    </tr>\n",
       "    <tr>\n",
       "      <th>mean</th>\n",
       "      <td>39.427957</td>\n",
       "      <td>1981.409055</td>\n",
       "      <td>2.838597</td>\n",
       "      <td>2.990645</td>\n",
       "      <td>2.851994</td>\n",
       "      <td>2.990422</td>\n",
       "      <td>3.249130</td>\n",
       "      <td>3.383477</td>\n",
       "      <td>3.519703</td>\n",
       "      <td>3.472105</td>\n",
       "      <td>3.465075</td>\n",
       "      <td>3.485902</td>\n",
       "      <td>3.695673</td>\n",
       "      <td>3.340807</td>\n",
       "      <td>3.705759</td>\n",
       "      <td>3.352587</td>\n",
       "      <td>14.713713</td>\n",
       "      <td>15.091129</td>\n",
       "    </tr>\n",
       "    <tr>\n",
       "      <th>std</th>\n",
       "      <td>15.119360</td>\n",
       "      <td>1027.115606</td>\n",
       "      <td>1.392983</td>\n",
       "      <td>1.527224</td>\n",
       "      <td>1.443729</td>\n",
       "      <td>1.305970</td>\n",
       "      <td>1.318818</td>\n",
       "      <td>1.346059</td>\n",
       "      <td>1.306511</td>\n",
       "      <td>1.305560</td>\n",
       "      <td>1.270836</td>\n",
       "      <td>1.292226</td>\n",
       "      <td>1.156483</td>\n",
       "      <td>1.260582</td>\n",
       "      <td>1.151774</td>\n",
       "      <td>1.298715</td>\n",
       "      <td>38.071126</td>\n",
       "      <td>38.465650</td>\n",
       "    </tr>\n",
       "    <tr>\n",
       "      <th>min</th>\n",
       "      <td>7.000000</td>\n",
       "      <td>50.000000</td>\n",
       "      <td>0.000000</td>\n",
       "      <td>0.000000</td>\n",
       "      <td>0.000000</td>\n",
       "      <td>0.000000</td>\n",
       "      <td>0.000000</td>\n",
       "      <td>0.000000</td>\n",
       "      <td>0.000000</td>\n",
       "      <td>0.000000</td>\n",
       "      <td>0.000000</td>\n",
       "      <td>0.000000</td>\n",
       "      <td>1.000000</td>\n",
       "      <td>0.000000</td>\n",
       "      <td>0.000000</td>\n",
       "      <td>0.000000</td>\n",
       "      <td>0.000000</td>\n",
       "      <td>0.000000</td>\n",
       "    </tr>\n",
       "    <tr>\n",
       "      <th>25%</th>\n",
       "      <td>27.000000</td>\n",
       "      <td>1359.000000</td>\n",
       "      <td>2.000000</td>\n",
       "      <td>2.000000</td>\n",
       "      <td>2.000000</td>\n",
       "      <td>2.000000</td>\n",
       "      <td>2.000000</td>\n",
       "      <td>2.000000</td>\n",
       "      <td>3.000000</td>\n",
       "      <td>2.000000</td>\n",
       "      <td>3.000000</td>\n",
       "      <td>2.000000</td>\n",
       "      <td>3.000000</td>\n",
       "      <td>3.000000</td>\n",
       "      <td>3.000000</td>\n",
       "      <td>2.000000</td>\n",
       "      <td>0.000000</td>\n",
       "      <td>0.000000</td>\n",
       "    </tr>\n",
       "    <tr>\n",
       "      <th>50%</th>\n",
       "      <td>40.000000</td>\n",
       "      <td>1925.000000</td>\n",
       "      <td>3.000000</td>\n",
       "      <td>3.000000</td>\n",
       "      <td>3.000000</td>\n",
       "      <td>3.000000</td>\n",
       "      <td>3.000000</td>\n",
       "      <td>4.000000</td>\n",
       "      <td>4.000000</td>\n",
       "      <td>4.000000</td>\n",
       "      <td>4.000000</td>\n",
       "      <td>4.000000</td>\n",
       "      <td>4.000000</td>\n",
       "      <td>3.000000</td>\n",
       "      <td>4.000000</td>\n",
       "      <td>4.000000</td>\n",
       "      <td>0.000000</td>\n",
       "      <td>0.000000</td>\n",
       "    </tr>\n",
       "    <tr>\n",
       "      <th>75%</th>\n",
       "      <td>51.000000</td>\n",
       "      <td>2544.000000</td>\n",
       "      <td>4.000000</td>\n",
       "      <td>4.000000</td>\n",
       "      <td>4.000000</td>\n",
       "      <td>4.000000</td>\n",
       "      <td>4.000000</td>\n",
       "      <td>4.000000</td>\n",
       "      <td>5.000000</td>\n",
       "      <td>5.000000</td>\n",
       "      <td>4.000000</td>\n",
       "      <td>5.000000</td>\n",
       "      <td>5.000000</td>\n",
       "      <td>4.000000</td>\n",
       "      <td>5.000000</td>\n",
       "      <td>4.000000</td>\n",
       "      <td>12.000000</td>\n",
       "      <td>13.000000</td>\n",
       "    </tr>\n",
       "    <tr>\n",
       "      <th>max</th>\n",
       "      <td>85.000000</td>\n",
       "      <td>6951.000000</td>\n",
       "      <td>5.000000</td>\n",
       "      <td>5.000000</td>\n",
       "      <td>5.000000</td>\n",
       "      <td>5.000000</td>\n",
       "      <td>5.000000</td>\n",
       "      <td>5.000000</td>\n",
       "      <td>5.000000</td>\n",
       "      <td>5.000000</td>\n",
       "      <td>5.000000</td>\n",
       "      <td>5.000000</td>\n",
       "      <td>5.000000</td>\n",
       "      <td>5.000000</td>\n",
       "      <td>5.000000</td>\n",
       "      <td>5.000000</td>\n",
       "      <td>1592.000000</td>\n",
       "      <td>1584.000000</td>\n",
       "    </tr>\n",
       "  </tbody>\n",
       "</table>\n",
       "</div>"
      ],
      "text/plain": [
       "                 Age  Flight Distance   Seat comfort  \\\n",
       "count  129880.000000    129880.000000  129880.000000   \n",
       "mean       39.427957      1981.409055       2.838597   \n",
       "std        15.119360      1027.115606       1.392983   \n",
       "min         7.000000        50.000000       0.000000   \n",
       "25%        27.000000      1359.000000       2.000000   \n",
       "50%        40.000000      1925.000000       3.000000   \n",
       "75%        51.000000      2544.000000       4.000000   \n",
       "max        85.000000      6951.000000       5.000000   \n",
       "\n",
       "       Departure/Arrival time convenient  Food and drink  Gate location  \\\n",
       "count                      129880.000000   129880.000000  129880.000000   \n",
       "mean                            2.990645        2.851994       2.990422   \n",
       "std                             1.527224        1.443729       1.305970   \n",
       "min                             0.000000        0.000000       0.000000   \n",
       "25%                             2.000000        2.000000       2.000000   \n",
       "50%                             3.000000        3.000000       3.000000   \n",
       "75%                             4.000000        4.000000       4.000000   \n",
       "max                             5.000000        5.000000       5.000000   \n",
       "\n",
       "       Inflight wifi service  Inflight entertainment  Online support  \\\n",
       "count          129880.000000           129880.000000   129880.000000   \n",
       "mean                3.249130                3.383477        3.519703   \n",
       "std                 1.318818                1.346059        1.306511   \n",
       "min                 0.000000                0.000000        0.000000   \n",
       "25%                 2.000000                2.000000        3.000000   \n",
       "50%                 3.000000                4.000000        4.000000   \n",
       "75%                 4.000000                4.000000        5.000000   \n",
       "max                 5.000000                5.000000        5.000000   \n",
       "\n",
       "       Ease of Online booking  On-board service  Leg room service  \\\n",
       "count           129880.000000     129880.000000     129880.000000   \n",
       "mean                 3.472105          3.465075          3.485902   \n",
       "std                  1.305560          1.270836          1.292226   \n",
       "min                  0.000000          0.000000          0.000000   \n",
       "25%                  2.000000          3.000000          2.000000   \n",
       "50%                  4.000000          4.000000          4.000000   \n",
       "75%                  5.000000          4.000000          5.000000   \n",
       "max                  5.000000          5.000000          5.000000   \n",
       "\n",
       "       Baggage handling  Checkin service    Cleanliness  Online boarding  \\\n",
       "count     129880.000000    129880.000000  129880.000000    129880.000000   \n",
       "mean           3.695673         3.340807       3.705759         3.352587   \n",
       "std            1.156483         1.260582       1.151774         1.298715   \n",
       "min            1.000000         0.000000       0.000000         0.000000   \n",
       "25%            3.000000         3.000000       3.000000         2.000000   \n",
       "50%            4.000000         3.000000       4.000000         4.000000   \n",
       "75%            5.000000         4.000000       5.000000         4.000000   \n",
       "max            5.000000         5.000000       5.000000         5.000000   \n",
       "\n",
       "       Departure Delay in Minutes  Arrival Delay in Minutes  \n",
       "count               129880.000000             129487.000000  \n",
       "mean                    14.713713                 15.091129  \n",
       "std                     38.071126                 38.465650  \n",
       "min                      0.000000                  0.000000  \n",
       "25%                      0.000000                  0.000000  \n",
       "50%                      0.000000                  0.000000  \n",
       "75%                     12.000000                 13.000000  \n",
       "max                   1592.000000               1584.000000  "
      ]
     },
     "execution_count": 6,
     "metadata": {},
     "output_type": "execute_result"
    }
   ],
   "source": [
    "df.describe()"
   ]
  },
  {
   "cell_type": "markdown",
   "id": "2e8758a0-48df-4d87-b689-5374e8e18979",
   "metadata": {},
   "source": [
    "# 5) Process of Data Normalization (EDA)\n",
    "* Here we use value counts.\n",
    "* By using value counts , we found unique value in a single column.\n",
    "* Output:- Counts of unique value eg:1) Number of Satisfied Passenger 2) Number of Dissatisfied Passenger.\n",
    "* This information helps in understanding the distribution of values within the column."
   ]
  },
  {
   "cell_type": "code",
   "execution_count": 7,
   "id": "ecc7f75c-b606-43c0-8ca3-fc6e05e46e64",
   "metadata": {},
   "outputs": [
    {
     "data": {
      "text/plain": [
       "satisfaction\n",
       "satisfied       71087\n",
       "dissatisfied    58793\n",
       "Name: count, dtype: int64"
      ]
     },
     "execution_count": 7,
     "metadata": {},
     "output_type": "execute_result"
    }
   ],
   "source": [
    "df[\"satisfaction\"].value_counts()"
   ]
  },
  {
   "cell_type": "code",
   "execution_count": 8,
   "id": "6a5e2d1f-d276-4577-9890-1e99eb50c679",
   "metadata": {},
   "outputs": [
    {
     "data": {
      "text/plain": [
       "Gender\n",
       "Female    65899\n",
       "Male      63981\n",
       "Name: count, dtype: int64"
      ]
     },
     "execution_count": 8,
     "metadata": {},
     "output_type": "execute_result"
    }
   ],
   "source": [
    "df[\"Gender\"].value_counts()"
   ]
  },
  {
   "cell_type": "code",
   "execution_count": 9,
   "id": "83d46fec-a3ca-4f37-95e9-0cfeced7e5e8",
   "metadata": {},
   "outputs": [
    {
     "data": {
      "text/plain": [
       "Customer Type\n",
       "Loyal Customer       106100\n",
       "disloyal Customer     23780\n",
       "Name: count, dtype: int64"
      ]
     },
     "execution_count": 9,
     "metadata": {},
     "output_type": "execute_result"
    }
   ],
   "source": [
    "df[\"Customer Type\"].value_counts()"
   ]
  },
  {
   "cell_type": "markdown",
   "id": "098b1d3a-7de4-48c7-a316-3c8956f3b467",
   "metadata": {},
   "source": [
    "* Here we check the value count of Type of Travel column.\n",
    "* In that column check the relation betweeen 2 columns.\n",
    "* Output : Count of unique value:1) Business Travel 2) Personal Travel."
   ]
  },
  {
   "cell_type": "code",
   "execution_count": 10,
   "id": "a277c654-d9cf-4d42-9642-43aa66efd4f8",
   "metadata": {},
   "outputs": [
    {
     "data": {
      "text/plain": [
       "Type of Travel\n",
       "Business travel    89693\n",
       "Personal Travel    40187\n",
       "Name: count, dtype: int64"
      ]
     },
     "execution_count": 10,
     "metadata": {},
     "output_type": "execute_result"
    }
   ],
   "source": [
    "df[\"Type of Travel\"].value_counts()"
   ]
  },
  {
   "cell_type": "code",
   "execution_count": 11,
   "id": "c6b3c54f-130f-45e0-82a0-a0a1ceca5799",
   "metadata": {},
   "outputs": [
    {
     "data": {
      "text/html": [
       "<div>\n",
       "<style scoped>\n",
       "    .dataframe tbody tr th:only-of-type {\n",
       "        vertical-align: middle;\n",
       "    }\n",
       "\n",
       "    .dataframe tbody tr th {\n",
       "        vertical-align: top;\n",
       "    }\n",
       "\n",
       "    .dataframe thead th {\n",
       "        text-align: right;\n",
       "    }\n",
       "</style>\n",
       "<table border=\"1\" class=\"dataframe\">\n",
       "  <thead>\n",
       "    <tr style=\"text-align: right;\">\n",
       "      <th></th>\n",
       "      <th>Age</th>\n",
       "      <th>Flight Distance</th>\n",
       "      <th>Seat comfort</th>\n",
       "      <th>Departure/Arrival time convenient</th>\n",
       "      <th>Food and drink</th>\n",
       "      <th>Gate location</th>\n",
       "      <th>Inflight wifi service</th>\n",
       "      <th>Inflight entertainment</th>\n",
       "      <th>Online support</th>\n",
       "      <th>Ease of Online booking</th>\n",
       "      <th>On-board service</th>\n",
       "      <th>Leg room service</th>\n",
       "      <th>Baggage handling</th>\n",
       "      <th>Checkin service</th>\n",
       "      <th>Cleanliness</th>\n",
       "      <th>Online boarding</th>\n",
       "      <th>Departure Delay in Minutes</th>\n",
       "      <th>Arrival Delay in Minutes</th>\n",
       "    </tr>\n",
       "  </thead>\n",
       "  <tbody>\n",
       "    <tr>\n",
       "      <th>count</th>\n",
       "      <td>129880.000000</td>\n",
       "      <td>129880.000000</td>\n",
       "      <td>129880.000000</td>\n",
       "      <td>129880.000000</td>\n",
       "      <td>129880.000000</td>\n",
       "      <td>129880.000000</td>\n",
       "      <td>129880.000000</td>\n",
       "      <td>129880.000000</td>\n",
       "      <td>129880.000000</td>\n",
       "      <td>129880.000000</td>\n",
       "      <td>129880.000000</td>\n",
       "      <td>129880.000000</td>\n",
       "      <td>129880.000000</td>\n",
       "      <td>129880.000000</td>\n",
       "      <td>129880.000000</td>\n",
       "      <td>129880.000000</td>\n",
       "      <td>129880.000000</td>\n",
       "      <td>129487.000000</td>\n",
       "    </tr>\n",
       "    <tr>\n",
       "      <th>mean</th>\n",
       "      <td>39.427957</td>\n",
       "      <td>1981.409055</td>\n",
       "      <td>2.838597</td>\n",
       "      <td>2.990645</td>\n",
       "      <td>2.851994</td>\n",
       "      <td>2.990422</td>\n",
       "      <td>3.249130</td>\n",
       "      <td>3.383477</td>\n",
       "      <td>3.519703</td>\n",
       "      <td>3.472105</td>\n",
       "      <td>3.465075</td>\n",
       "      <td>3.485902</td>\n",
       "      <td>3.695673</td>\n",
       "      <td>3.340807</td>\n",
       "      <td>3.705759</td>\n",
       "      <td>3.352587</td>\n",
       "      <td>14.713713</td>\n",
       "      <td>15.091129</td>\n",
       "    </tr>\n",
       "    <tr>\n",
       "      <th>std</th>\n",
       "      <td>15.119360</td>\n",
       "      <td>1027.115606</td>\n",
       "      <td>1.392983</td>\n",
       "      <td>1.527224</td>\n",
       "      <td>1.443729</td>\n",
       "      <td>1.305970</td>\n",
       "      <td>1.318818</td>\n",
       "      <td>1.346059</td>\n",
       "      <td>1.306511</td>\n",
       "      <td>1.305560</td>\n",
       "      <td>1.270836</td>\n",
       "      <td>1.292226</td>\n",
       "      <td>1.156483</td>\n",
       "      <td>1.260582</td>\n",
       "      <td>1.151774</td>\n",
       "      <td>1.298715</td>\n",
       "      <td>38.071126</td>\n",
       "      <td>38.465650</td>\n",
       "    </tr>\n",
       "    <tr>\n",
       "      <th>min</th>\n",
       "      <td>7.000000</td>\n",
       "      <td>50.000000</td>\n",
       "      <td>0.000000</td>\n",
       "      <td>0.000000</td>\n",
       "      <td>0.000000</td>\n",
       "      <td>0.000000</td>\n",
       "      <td>0.000000</td>\n",
       "      <td>0.000000</td>\n",
       "      <td>0.000000</td>\n",
       "      <td>0.000000</td>\n",
       "      <td>0.000000</td>\n",
       "      <td>0.000000</td>\n",
       "      <td>1.000000</td>\n",
       "      <td>0.000000</td>\n",
       "      <td>0.000000</td>\n",
       "      <td>0.000000</td>\n",
       "      <td>0.000000</td>\n",
       "      <td>0.000000</td>\n",
       "    </tr>\n",
       "    <tr>\n",
       "      <th>25%</th>\n",
       "      <td>27.000000</td>\n",
       "      <td>1359.000000</td>\n",
       "      <td>2.000000</td>\n",
       "      <td>2.000000</td>\n",
       "      <td>2.000000</td>\n",
       "      <td>2.000000</td>\n",
       "      <td>2.000000</td>\n",
       "      <td>2.000000</td>\n",
       "      <td>3.000000</td>\n",
       "      <td>2.000000</td>\n",
       "      <td>3.000000</td>\n",
       "      <td>2.000000</td>\n",
       "      <td>3.000000</td>\n",
       "      <td>3.000000</td>\n",
       "      <td>3.000000</td>\n",
       "      <td>2.000000</td>\n",
       "      <td>0.000000</td>\n",
       "      <td>0.000000</td>\n",
       "    </tr>\n",
       "    <tr>\n",
       "      <th>50%</th>\n",
       "      <td>40.000000</td>\n",
       "      <td>1925.000000</td>\n",
       "      <td>3.000000</td>\n",
       "      <td>3.000000</td>\n",
       "      <td>3.000000</td>\n",
       "      <td>3.000000</td>\n",
       "      <td>3.000000</td>\n",
       "      <td>4.000000</td>\n",
       "      <td>4.000000</td>\n",
       "      <td>4.000000</td>\n",
       "      <td>4.000000</td>\n",
       "      <td>4.000000</td>\n",
       "      <td>4.000000</td>\n",
       "      <td>3.000000</td>\n",
       "      <td>4.000000</td>\n",
       "      <td>4.000000</td>\n",
       "      <td>0.000000</td>\n",
       "      <td>0.000000</td>\n",
       "    </tr>\n",
       "    <tr>\n",
       "      <th>75%</th>\n",
       "      <td>51.000000</td>\n",
       "      <td>2544.000000</td>\n",
       "      <td>4.000000</td>\n",
       "      <td>4.000000</td>\n",
       "      <td>4.000000</td>\n",
       "      <td>4.000000</td>\n",
       "      <td>4.000000</td>\n",
       "      <td>4.000000</td>\n",
       "      <td>5.000000</td>\n",
       "      <td>5.000000</td>\n",
       "      <td>4.000000</td>\n",
       "      <td>5.000000</td>\n",
       "      <td>5.000000</td>\n",
       "      <td>4.000000</td>\n",
       "      <td>5.000000</td>\n",
       "      <td>4.000000</td>\n",
       "      <td>12.000000</td>\n",
       "      <td>13.000000</td>\n",
       "    </tr>\n",
       "    <tr>\n",
       "      <th>max</th>\n",
       "      <td>85.000000</td>\n",
       "      <td>6951.000000</td>\n",
       "      <td>5.000000</td>\n",
       "      <td>5.000000</td>\n",
       "      <td>5.000000</td>\n",
       "      <td>5.000000</td>\n",
       "      <td>5.000000</td>\n",
       "      <td>5.000000</td>\n",
       "      <td>5.000000</td>\n",
       "      <td>5.000000</td>\n",
       "      <td>5.000000</td>\n",
       "      <td>5.000000</td>\n",
       "      <td>5.000000</td>\n",
       "      <td>5.000000</td>\n",
       "      <td>5.000000</td>\n",
       "      <td>5.000000</td>\n",
       "      <td>1592.000000</td>\n",
       "      <td>1584.000000</td>\n",
       "    </tr>\n",
       "  </tbody>\n",
       "</table>\n",
       "</div>"
      ],
      "text/plain": [
       "                 Age  Flight Distance   Seat comfort  \\\n",
       "count  129880.000000    129880.000000  129880.000000   \n",
       "mean       39.427957      1981.409055       2.838597   \n",
       "std        15.119360      1027.115606       1.392983   \n",
       "min         7.000000        50.000000       0.000000   \n",
       "25%        27.000000      1359.000000       2.000000   \n",
       "50%        40.000000      1925.000000       3.000000   \n",
       "75%        51.000000      2544.000000       4.000000   \n",
       "max        85.000000      6951.000000       5.000000   \n",
       "\n",
       "       Departure/Arrival time convenient  Food and drink  Gate location  \\\n",
       "count                      129880.000000   129880.000000  129880.000000   \n",
       "mean                            2.990645        2.851994       2.990422   \n",
       "std                             1.527224        1.443729       1.305970   \n",
       "min                             0.000000        0.000000       0.000000   \n",
       "25%                             2.000000        2.000000       2.000000   \n",
       "50%                             3.000000        3.000000       3.000000   \n",
       "75%                             4.000000        4.000000       4.000000   \n",
       "max                             5.000000        5.000000       5.000000   \n",
       "\n",
       "       Inflight wifi service  Inflight entertainment  Online support  \\\n",
       "count          129880.000000           129880.000000   129880.000000   \n",
       "mean                3.249130                3.383477        3.519703   \n",
       "std                 1.318818                1.346059        1.306511   \n",
       "min                 0.000000                0.000000        0.000000   \n",
       "25%                 2.000000                2.000000        3.000000   \n",
       "50%                 3.000000                4.000000        4.000000   \n",
       "75%                 4.000000                4.000000        5.000000   \n",
       "max                 5.000000                5.000000        5.000000   \n",
       "\n",
       "       Ease of Online booking  On-board service  Leg room service  \\\n",
       "count           129880.000000     129880.000000     129880.000000   \n",
       "mean                 3.472105          3.465075          3.485902   \n",
       "std                  1.305560          1.270836          1.292226   \n",
       "min                  0.000000          0.000000          0.000000   \n",
       "25%                  2.000000          3.000000          2.000000   \n",
       "50%                  4.000000          4.000000          4.000000   \n",
       "75%                  5.000000          4.000000          5.000000   \n",
       "max                  5.000000          5.000000          5.000000   \n",
       "\n",
       "       Baggage handling  Checkin service    Cleanliness  Online boarding  \\\n",
       "count     129880.000000    129880.000000  129880.000000    129880.000000   \n",
       "mean           3.695673         3.340807       3.705759         3.352587   \n",
       "std            1.156483         1.260582       1.151774         1.298715   \n",
       "min            1.000000         0.000000       0.000000         0.000000   \n",
       "25%            3.000000         3.000000       3.000000         2.000000   \n",
       "50%            4.000000         3.000000       4.000000         4.000000   \n",
       "75%            5.000000         4.000000       5.000000         4.000000   \n",
       "max            5.000000         5.000000       5.000000         5.000000   \n",
       "\n",
       "       Departure Delay in Minutes  Arrival Delay in Minutes  \n",
       "count               129880.000000             129487.000000  \n",
       "mean                    14.713713                 15.091129  \n",
       "std                     38.071126                 38.465650  \n",
       "min                      0.000000                  0.000000  \n",
       "25%                      0.000000                  0.000000  \n",
       "50%                      0.000000                  0.000000  \n",
       "75%                     12.000000                 13.000000  \n",
       "max                   1592.000000               1584.000000  "
      ]
     },
     "execution_count": 11,
     "metadata": {},
     "output_type": "execute_result"
    }
   ],
   "source": [
    "df.describe()"
   ]
  },
  {
   "cell_type": "markdown",
   "id": "c684c2c9-35ca-4eb2-b7ca-cfd4bb4d4ec4",
   "metadata": {},
   "source": [
    "* Here we use counplot function\n",
    "* countplot use for to check the relation between gender and satisfacion column.\n",
    "* It can help the quickly understanding the distribution of data.\n",
    "* Output:- 1) Blue colour shows the number of female who are satisfied and orange is dissatisfied.\n",
    "* Female: 1) More than 40000 female are disatisfied and above 20000 female are dissatisfied.\n",
    "* 2) more than 25000 male are satisfied and more than 30000 male are dissatisfied."
   ]
  },
  {
   "cell_type": "code",
   "execution_count": 12,
   "id": "eaf854a2-13a4-41ce-9341-3228e0e19518",
   "metadata": {},
   "outputs": [
    {
     "data": {
      "text/plain": [
       "<Axes: xlabel='Gender', ylabel='count'>"
      ]
     },
     "execution_count": 12,
     "metadata": {},
     "output_type": "execute_result"
    },
    {
     "data": {
      "image/png": "[encoded data removed]",
      "text/plain": [
       "<Figure size 640x480 with 1 Axes>"
      ]
     },
     "metadata": {},
     "output_type": "display_data"
    }
   ],
   "source": [
    "sns.countplot(x=df[\"Gender\"], hue=df[\"satisfaction\"])"
   ]
  },
  {
   "cell_type": "markdown",
   "id": "e200ccf8-2dd3-472b-977e-91608a19cd19",
   "metadata": {},
   "source": [
    "* Here we check the correlation between two columns.\n",
    "* it is useful for understanding how the distribute one categorical variable into another variable.\n",
    "* Output: Difference in between male and female on basis of satisfaction level."
   ]
  },
  {
   "cell_type": "code",
   "execution_count": 13,
   "id": "d1021571-2d75-4d2e-9b8f-b608be7285f6",
   "metadata": {},
   "outputs": [
    {
     "data": {
      "text/html": [
       "<div>\n",
       "<style scoped>\n",
       "    .dataframe tbody tr th:only-of-type {\n",
       "        vertical-align: middle;\n",
       "    }\n",
       "\n",
       "    .dataframe tbody tr th {\n",
       "        vertical-align: top;\n",
       "    }\n",
       "\n",
       "    .dataframe thead th {\n",
       "        text-align: right;\n",
       "    }\n",
       "</style>\n",
       "<table border=\"1\" class=\"dataframe\">\n",
       "  <thead>\n",
       "    <tr style=\"text-align: right;\">\n",
       "      <th>Gender</th>\n",
       "      <th>Female</th>\n",
       "      <th>Male</th>\n",
       "    </tr>\n",
       "    <tr>\n",
       "      <th>satisfaction</th>\n",
       "      <th></th>\n",
       "      <th></th>\n",
       "    </tr>\n",
       "  </thead>\n",
       "  <tbody>\n",
       "    <tr>\n",
       "      <th>dissatisfied</th>\n",
       "      <td>22971</td>\n",
       "      <td>35822</td>\n",
       "    </tr>\n",
       "    <tr>\n",
       "      <th>satisfied</th>\n",
       "      <td>42928</td>\n",
       "      <td>28159</td>\n",
       "    </tr>\n",
       "  </tbody>\n",
       "</table>\n",
       "</div>"
      ],
      "text/plain": [
       "Gender        Female   Male\n",
       "satisfaction               \n",
       "dissatisfied   22971  35822\n",
       "satisfied      42928  28159"
      ]
     },
     "execution_count": 13,
     "metadata": {},
     "output_type": "execute_result"
    }
   ],
   "source": [
    "pd.crosstab(index=df[\"satisfaction\"],columns=df[\"Gender\"])"
   ]
  },
  {
   "cell_type": "markdown",
   "id": "2774f00f-d533-4f4d-bc0a-ed46221dd3f2",
   "metadata": {},
   "source": [
    "# Use of Countplot\n",
    "* countplot is used to check the relation between customer type and satisfacion column.\n",
    "* Output: The graph shows that the satisfied loyal and disloyal customer.\r\n"
   ]
  },
  {
   "cell_type": "code",
   "execution_count": 14,
   "id": "4bcaa842-0f40-41e4-b9e6-fcdd2ba9d1bc",
   "metadata": {},
   "outputs": [
    {
     "data": {
      "text/plain": [
       "<Axes: xlabel='Customer Type', ylabel='count'>"
      ]
     },
     "execution_count": 14,
     "metadata": {},
     "output_type": "execute_result"
    },
    {
     "data": {
      "image/png": "[encoded data removed]",
      "text/plain": [
       "<Figure size 640x480 with 1 Axes>"
      ]
     },
     "metadata": {},
     "output_type": "display_data"
    }
   ],
   "source": [
    "sns.countplot(x=df[\"Customer Type\"], hue=df[\"satisfaction\"])"
   ]
  },
  {
   "cell_type": "markdown",
   "id": "f95e5d85-ef1c-41ba-b4bd-340771168356",
   "metadata": {},
   "source": [
    "* To check the relation between customer type and gender.\n",
    "* The graph shows the Loyal and Disloyal Customer on basis of gender.\r\n"
   ]
  },
  {
   "cell_type": "code",
   "execution_count": 15,
   "id": "87e9fb7f-36f3-483b-bd75-83d9c74e0448",
   "metadata": {},
   "outputs": [
    {
     "data": {
      "text/plain": [
       "<Axes: xlabel='Customer Type', ylabel='count'>"
      ]
     },
     "execution_count": 15,
     "metadata": {},
     "output_type": "execute_result"
    },
    {
     "data": {
      "image/png": "[encoded data removed]",
      "text/plain": [
       "<Figure size 640x480 with 1 Axes>"
      ]
     },
     "metadata": {},
     "output_type": "display_data"
    }
   ],
   "source": [
    "sns.countplot(x=df[\"Customer Type\"], hue=df[\"Gender\"])"
   ]
  },
  {
   "cell_type": "markdown",
   "id": "45add890-14a1-4990-9cf9-f1022caf0dc1",
   "metadata": {},
   "source": [
    "* Here we check the Correlation between customer type and gender.\n",
    "* Output:- Loyal and Disloyal Customer on the basis of Gender."
   ]
  },
  {
   "cell_type": "code",
   "execution_count": 16,
   "id": "8b14c5d0-d9ca-4174-91a9-c8d2ac3b526b",
   "metadata": {},
   "outputs": [
    {
     "data": {
      "text/html": [
       "<div>\n",
       "<style scoped>\n",
       "    .dataframe tbody tr th:only-of-type {\n",
       "        vertical-align: middle;\n",
       "    }\n",
       "\n",
       "    .dataframe tbody tr th {\n",
       "        vertical-align: top;\n",
       "    }\n",
       "\n",
       "    .dataframe thead th {\n",
       "        text-align: right;\n",
       "    }\n",
       "</style>\n",
       "<table border=\"1\" class=\"dataframe\">\n",
       "  <thead>\n",
       "    <tr style=\"text-align: right;\">\n",
       "      <th>Gender</th>\n",
       "      <th>Female</th>\n",
       "      <th>Male</th>\n",
       "    </tr>\n",
       "    <tr>\n",
       "      <th>Customer Type</th>\n",
       "      <th></th>\n",
       "      <th></th>\n",
       "    </tr>\n",
       "  </thead>\n",
       "  <tbody>\n",
       "    <tr>\n",
       "      <th>Loyal Customer</th>\n",
       "      <td>53056</td>\n",
       "      <td>53044</td>\n",
       "    </tr>\n",
       "    <tr>\n",
       "      <th>disloyal Customer</th>\n",
       "      <td>12843</td>\n",
       "      <td>10937</td>\n",
       "    </tr>\n",
       "  </tbody>\n",
       "</table>\n",
       "</div>"
      ],
      "text/plain": [
       "Gender             Female   Male\n",
       "Customer Type                   \n",
       "Loyal Customer      53056  53044\n",
       "disloyal Customer   12843  10937"
      ]
     },
     "execution_count": 16,
     "metadata": {},
     "output_type": "execute_result"
    }
   ],
   "source": [
    "pd.crosstab(index=df[\"Customer Type\"],columns=df[\"Gender\"]) "
   ]
  },
  {
   "cell_type": "markdown",
   "id": "6e977c70-6a4a-4faa-8d94-ad5d9ccbbf2c",
   "metadata": {},
   "source": [
    "* Here we to check the relation between Type of travel and satisfaction.\n",
    "* The graph shows the Personal travel and Business Travel."
   ]
  },
  {
   "cell_type": "code",
   "execution_count": 17,
   "id": "ebbaaa74-11a0-4855-8dd3-84738571a857",
   "metadata": {},
   "outputs": [
    {
     "data": {
      "text/plain": [
       "<Axes: xlabel='Type of Travel', ylabel='count'>"
      ]
     },
     "execution_count": 17,
     "metadata": {},
     "output_type": "execute_result"
    },
    {
     "data": {
      "image/png": "[encoded data removed]",
      "text/plain": [
       "<Figure size 640x480 with 1 Axes>"
      ]
     },
     "metadata": {},
     "output_type": "display_data"
    }
   ],
   "source": [
    "sns.countplot(x=df[\"Type of Travel\"], hue=df[\"satisfaction\"])"
   ]
  },
  {
   "cell_type": "markdown",
   "id": "192a2195-179c-4a76-81b4-1f2604924138",
   "metadata": {},
   "source": [
    "* Here we check the relation between Type of Travel and Gender.\n",
    "* The graph shows the Personal Travel and Business Travel Relation with Gender."
   ]
  },
  {
   "cell_type": "code",
   "execution_count": 18,
   "id": "e1ab1671-737f-4aff-a606-0ea9b96283da",
   "metadata": {},
   "outputs": [
    {
     "data": {
      "text/plain": [
       "<Axes: xlabel='Type of Travel', ylabel='count'>"
      ]
     },
     "execution_count": 18,
     "metadata": {},
     "output_type": "execute_result"
    },
    {
     "data": {
      "image/png": "[encoded data removed]",
      "text/plain": [
       "<Figure size 640x480 with 1 Axes>"
      ]
     },
     "metadata": {},
     "output_type": "display_data"
    }
   ],
   "source": [
    "sns.countplot(x=df[\"Type of Travel\"], hue=df[\"Gender\"])"
   ]
  },
  {
   "cell_type": "markdown",
   "id": "d251b174-b583-4260-8c20-05e407179191",
   "metadata": {},
   "source": [
    "* This plot shows that the relation between \"type of travels\" and \"Class\".\n",
    "* Different colors within the bars represent the different \"Class\" categories (Economy, Business, First), allowing you to see how \"Class\" is distributed within each \"Type of Travel\" category.\n",
    "* The graph distributed in Personal Travel and Business Travel."
   ]
  },
  {
   "cell_type": "code",
   "execution_count": 19,
   "id": "e9a713bb-fad1-49e0-9d28-34c6c34c2567",
   "metadata": {},
   "outputs": [
    {
     "data": {
      "text/plain": [
       "<Axes: xlabel='Type of Travel', ylabel='count'>"
      ]
     },
     "execution_count": 19,
     "metadata": {},
     "output_type": "execute_result"
    },
    {
     "data": {
      "image/png": "[encoded data removed]",
      "text/plain": [
       "<Figure size 640x480 with 1 Axes>"
      ]
     },
     "metadata": {},
     "output_type": "display_data"
    }
   ],
   "source": [
    "sns.countplot(x=df[\"Type of Travel\"], hue=df[\"Class\"])"
   ]
  },
  {
   "cell_type": "markdown",
   "id": "e37c825b-3116-4592-b7aa-18d751ffd730",
   "metadata": {},
   "source": [
    "* This graph shows that the relation between \"Type of Travel\" and \"Customer Type\".\n",
    "* Loyal and Disloyal Customer choose a Personal and Business Travel.\n",
    "* Loyal customer choose Business travel as compare to perosal travel and disloyal customer choose only business travel."
   ]
  },
  {
   "cell_type": "code",
   "execution_count": 20,
   "id": "ea301ecb-a8ea-4109-8b56-f0b6cea7d576",
   "metadata": {},
   "outputs": [
    {
     "data": {
      "text/plain": [
       "<Axes: xlabel='Type of Travel', ylabel='count'>"
      ]
     },
     "execution_count": 20,
     "metadata": {},
     "output_type": "execute_result"
    },
    {
     "data": {
      "image/png": "[encoded data removed]",
      "text/plain": [
       "<Figure size 640x480 with 1 Axes>"
      ]
     },
     "metadata": {},
     "output_type": "display_data"
    }
   ],
   "source": [
    "sns.countplot(x=df[\"Type of Travel\"], hue=df[\"Customer Type\"])"
   ]
  },
  {
   "cell_type": "markdown",
   "id": "84c16ca2-1234-4016-b947-c62767a3b52c",
   "metadata": {},
   "source": [
    "* The graph shows the relation between \"Class\" and \"Satisfaction\".\n",
    "* There are 3 categories of customer(Eco, Business Class, Eco Plus) on the basis of satisfaction level.\n",
    "* The category \"Eco\" shows the less customer satiesfied and large number of customer are dissatisfied.\n",
    "* \"Eco Plus\" category shows less number of satisfaction and dissatisfaction level as compare to Eco and Business category. "
   ]
  },
  {
   "cell_type": "code",
   "execution_count": 21,
   "id": "11cea42f-aeaa-4d4f-80ff-6f2780419241",
   "metadata": {},
   "outputs": [
    {
     "data": {
      "text/plain": [
       "<Axes: xlabel='Class', ylabel='count'>"
      ]
     },
     "execution_count": 21,
     "metadata": {},
     "output_type": "execute_result"
    },
    {
     "data": {
      "image/png": "[encoded data removed]",
      "text/plain": [
       "<Figure size 640x480 with 1 Axes>"
      ]
     },
     "metadata": {},
     "output_type": "display_data"
    }
   ],
   "source": [
    "sns.countplot(x=df[\"Class\"], hue=df[\"satisfaction\"])"
   ]
  },
  {
   "cell_type": "markdown",
   "id": "9358ffc8-d986-45e0-9ddd-5c2d93da8796",
   "metadata": {},
   "source": [
    "# Numerical Analysis"
   ]
  },
  {
   "cell_type": "markdown",
   "id": "0e99ce7d-2485-4ba7-abd0-fc83ffad5059",
   "metadata": {},
   "source": [
    "* A histogram provides a visual representation of the distribution of a single numerical value.\n",
    "* It shows how ages distributed within the dataset."
   ]
  },
  {
   "cell_type": "code",
   "execution_count": 22,
   "id": "2607c878-4efc-4f17-9074-3f7c833954de",
   "metadata": {},
   "outputs": [
    {
     "data": {
      "text/plain": [
       "<Axes: xlabel='Age', ylabel='Count'>"
      ]
     },
     "execution_count": 22,
     "metadata": {},
     "output_type": "execute_result"
    },
    {
     "data": {
      "image/png": "[encoded data removed]",
      "text/plain": [
       "<Figure size 640x480 with 1 Axes>"
      ]
     },
     "metadata": {},
     "output_type": "display_data"
    }
   ],
   "source": [
    "sns.histplot(df, x=\"Age\")"
   ]
  },
  {
   "cell_type": "markdown",
   "id": "6746facd-f9c3-46c5-9167-c624696c517e",
   "metadata": {},
   "source": [
    "* Plot box is used to check the null value present or not in data."
   ]
  },
  {
   "cell_type": "code",
   "execution_count": 23,
   "id": "b649a30b-404d-46e8-992c-50ec3edae381",
   "metadata": {},
   "outputs": [
    {
     "data": {
      "text/plain": [
       "<Axes: >"
      ]
     },
     "execution_count": 23,
     "metadata": {},
     "output_type": "execute_result"
    },
    {
     "data": {
      "image/png": "[encoded data removed]",
      "text/plain": [
       "<Figure size 640x480 with 1 Axes>"
      ]
     },
     "metadata": {},
     "output_type": "display_data"
    }
   ],
   "source": [
    "df[\"Age\"].plot.box()"
   ]
  },
  {
   "cell_type": "code",
   "execution_count": 24,
   "id": "3dc8e5b1-f062-409b-b142-7609196e0ce9",
   "metadata": {},
   "outputs": [
    {
     "data": {
      "text/html": [
       "<div>\n",
       "<style scoped>\n",
       "    .dataframe tbody tr th:only-of-type {\n",
       "        vertical-align: middle;\n",
       "    }\n",
       "\n",
       "    .dataframe tbody tr th {\n",
       "        vertical-align: top;\n",
       "    }\n",
       "\n",
       "    .dataframe thead th {\n",
       "        text-align: right;\n",
       "    }\n",
       "</style>\n",
       "<table border=\"1\" class=\"dataframe\">\n",
       "  <thead>\n",
       "    <tr style=\"text-align: right;\">\n",
       "      <th></th>\n",
       "      <th>satisfaction</th>\n",
       "      <th>Gender</th>\n",
       "      <th>Customer Type</th>\n",
       "      <th>Age</th>\n",
       "      <th>Type of Travel</th>\n",
       "      <th>Class</th>\n",
       "      <th>Flight Distance</th>\n",
       "      <th>Seat comfort</th>\n",
       "      <th>Departure/Arrival time convenient</th>\n",
       "      <th>Food and drink</th>\n",
       "      <th>...</th>\n",
       "      <th>Online support</th>\n",
       "      <th>Ease of Online booking</th>\n",
       "      <th>On-board service</th>\n",
       "      <th>Leg room service</th>\n",
       "      <th>Baggage handling</th>\n",
       "      <th>Checkin service</th>\n",
       "      <th>Cleanliness</th>\n",
       "      <th>Online boarding</th>\n",
       "      <th>Departure Delay in Minutes</th>\n",
       "      <th>Arrival Delay in Minutes</th>\n",
       "    </tr>\n",
       "  </thead>\n",
       "  <tbody>\n",
       "    <tr>\n",
       "      <th>0</th>\n",
       "      <td>satisfied</td>\n",
       "      <td>Female</td>\n",
       "      <td>Loyal Customer</td>\n",
       "      <td>65</td>\n",
       "      <td>Personal Travel</td>\n",
       "      <td>Eco</td>\n",
       "      <td>265</td>\n",
       "      <td>0</td>\n",
       "      <td>0</td>\n",
       "      <td>0</td>\n",
       "      <td>...</td>\n",
       "      <td>2</td>\n",
       "      <td>3</td>\n",
       "      <td>3</td>\n",
       "      <td>0</td>\n",
       "      <td>3</td>\n",
       "      <td>5</td>\n",
       "      <td>3</td>\n",
       "      <td>2</td>\n",
       "      <td>0</td>\n",
       "      <td>0.0</td>\n",
       "    </tr>\n",
       "    <tr>\n",
       "      <th>1</th>\n",
       "      <td>satisfied</td>\n",
       "      <td>Male</td>\n",
       "      <td>Loyal Customer</td>\n",
       "      <td>47</td>\n",
       "      <td>Personal Travel</td>\n",
       "      <td>Business</td>\n",
       "      <td>2464</td>\n",
       "      <td>0</td>\n",
       "      <td>0</td>\n",
       "      <td>0</td>\n",
       "      <td>...</td>\n",
       "      <td>2</td>\n",
       "      <td>3</td>\n",
       "      <td>4</td>\n",
       "      <td>4</td>\n",
       "      <td>4</td>\n",
       "      <td>2</td>\n",
       "      <td>3</td>\n",
       "      <td>2</td>\n",
       "      <td>310</td>\n",
       "      <td>305.0</td>\n",
       "    </tr>\n",
       "    <tr>\n",
       "      <th>2</th>\n",
       "      <td>satisfied</td>\n",
       "      <td>Female</td>\n",
       "      <td>Loyal Customer</td>\n",
       "      <td>15</td>\n",
       "      <td>Personal Travel</td>\n",
       "      <td>Eco</td>\n",
       "      <td>2138</td>\n",
       "      <td>0</td>\n",
       "      <td>0</td>\n",
       "      <td>0</td>\n",
       "      <td>...</td>\n",
       "      <td>2</td>\n",
       "      <td>2</td>\n",
       "      <td>3</td>\n",
       "      <td>3</td>\n",
       "      <td>4</td>\n",
       "      <td>4</td>\n",
       "      <td>4</td>\n",
       "      <td>2</td>\n",
       "      <td>0</td>\n",
       "      <td>0.0</td>\n",
       "    </tr>\n",
       "    <tr>\n",
       "      <th>3</th>\n",
       "      <td>satisfied</td>\n",
       "      <td>Female</td>\n",
       "      <td>Loyal Customer</td>\n",
       "      <td>60</td>\n",
       "      <td>Personal Travel</td>\n",
       "      <td>Eco</td>\n",
       "      <td>623</td>\n",
       "      <td>0</td>\n",
       "      <td>0</td>\n",
       "      <td>0</td>\n",
       "      <td>...</td>\n",
       "      <td>3</td>\n",
       "      <td>1</td>\n",
       "      <td>1</td>\n",
       "      <td>0</td>\n",
       "      <td>1</td>\n",
       "      <td>4</td>\n",
       "      <td>1</td>\n",
       "      <td>3</td>\n",
       "      <td>0</td>\n",
       "      <td>0.0</td>\n",
       "    </tr>\n",
       "    <tr>\n",
       "      <th>4</th>\n",
       "      <td>satisfied</td>\n",
       "      <td>Female</td>\n",
       "      <td>Loyal Customer</td>\n",
       "      <td>70</td>\n",
       "      <td>Personal Travel</td>\n",
       "      <td>Eco</td>\n",
       "      <td>354</td>\n",
       "      <td>0</td>\n",
       "      <td>0</td>\n",
       "      <td>0</td>\n",
       "      <td>...</td>\n",
       "      <td>4</td>\n",
       "      <td>2</td>\n",
       "      <td>2</td>\n",
       "      <td>0</td>\n",
       "      <td>2</td>\n",
       "      <td>4</td>\n",
       "      <td>2</td>\n",
       "      <td>5</td>\n",
       "      <td>0</td>\n",
       "      <td>0.0</td>\n",
       "    </tr>\n",
       "  </tbody>\n",
       "</table>\n",
       "<p>5 rows × 23 columns</p>\n",
       "</div>"
      ],
      "text/plain": [
       "  satisfaction  Gender   Customer Type  Age   Type of Travel     Class  \\\n",
       "0    satisfied  Female  Loyal Customer   65  Personal Travel       Eco   \n",
       "1    satisfied    Male  Loyal Customer   47  Personal Travel  Business   \n",
       "2    satisfied  Female  Loyal Customer   15  Personal Travel       Eco   \n",
       "3    satisfied  Female  Loyal Customer   60  Personal Travel       Eco   \n",
       "4    satisfied  Female  Loyal Customer   70  Personal Travel       Eco   \n",
       "\n",
       "   Flight Distance  Seat comfort  Departure/Arrival time convenient  \\\n",
       "0              265             0                                  0   \n",
       "1             2464             0                                  0   \n",
       "2             2138             0                                  0   \n",
       "3              623             0                                  0   \n",
       "4              354             0                                  0   \n",
       "\n",
       "   Food and drink  ...  Online support  Ease of Online booking  \\\n",
       "0               0  ...               2                       3   \n",
       "1               0  ...               2                       3   \n",
       "2               0  ...               2                       2   \n",
       "3               0  ...               3                       1   \n",
       "4               0  ...               4                       2   \n",
       "\n",
       "   On-board service  Leg room service  Baggage handling  Checkin service  \\\n",
       "0                 3                 0                 3                5   \n",
       "1                 4                 4                 4                2   \n",
       "2                 3                 3                 4                4   \n",
       "3                 1                 0                 1                4   \n",
       "4                 2                 0                 2                4   \n",
       "\n",
       "   Cleanliness  Online boarding  Departure Delay in Minutes  \\\n",
       "0            3                2                           0   \n",
       "1            3                2                         310   \n",
       "2            4                2                           0   \n",
       "3            1                3                           0   \n",
       "4            2                5                           0   \n",
       "\n",
       "   Arrival Delay in Minutes  \n",
       "0                       0.0  \n",
       "1                     305.0  \n",
       "2                       0.0  \n",
       "3                       0.0  \n",
       "4                       0.0  \n",
       "\n",
       "[5 rows x 23 columns]"
      ]
     },
     "execution_count": 24,
     "metadata": {},
     "output_type": "execute_result"
    }
   ],
   "source": [
    "df.head()"
   ]
  },
  {
   "cell_type": "markdown",
   "id": "833ba402-e733-4e94-87d0-e699052844b1",
   "metadata": {},
   "source": [
    "* The graph shows the distribution of data."
   ]
  },
  {
   "cell_type": "code",
   "execution_count": 25,
   "id": "9299780b-0ba9-4170-ae02-a8d8c06f311e",
   "metadata": {},
   "outputs": [
    {
     "data": {
      "text/plain": [
       "<Axes: xlabel='Flight Distance', ylabel='Count'>"
      ]
     },
     "execution_count": 25,
     "metadata": {},
     "output_type": "execute_result"
    },
    {
     "data": {
      "image/png": "[encoded data removed]",
      "text/plain": [
       "<Figure size 640x480 with 1 Axes>"
      ]
     },
     "metadata": {},
     "output_type": "display_data"
    }
   ],
   "source": [
    "sns.histplot(df,x=\"Flight Distance\")"
   ]
  },
  {
   "cell_type": "markdown",
   "id": "3c38f2cf-c8a0-4d22-927f-b5a360568d4f",
   "metadata": {},
   "source": [
    "# Check Outliers\n",
    "* Here we check the outliers of Flight Distance Column.\n",
    "* we have to remove that outliers."
   ]
  },
  {
   "cell_type": "code",
   "execution_count": 26,
   "id": "9b020aaa-fc85-4e0d-a84a-133027df0015",
   "metadata": {},
   "outputs": [
    {
     "data": {
      "text/plain": [
       "<Axes: >"
      ]
     },
     "execution_count": 26,
     "metadata": {},
     "output_type": "execute_result"
    },
    {
     "data": {
      "image/png": "[encoded data removed]",
      "text/plain": [
       "<Figure size 640x480 with 1 Axes>"
      ]
     },
     "metadata": {},
     "output_type": "display_data"
    }
   ],
   "source": [
    "df[\"Flight Distance\"].plot.box()"
   ]
  },
  {
   "cell_type": "markdown",
   "id": "27d43e93-d9c3-42d6-9f47-380dedec25fc",
   "metadata": {},
   "source": [
    "* The code aims to visualize the distribution of \"Flight Distance\" , in that high values consider as outliers.\n",
    "* we take 0.977(97.7) percentile of data shows box plot which shows the clear view of data."
   ]
  },
  {
   "cell_type": "code",
   "execution_count": 27,
   "id": "7ce96e79-3c24-4b00-b9c0-fbb9898f5364",
   "metadata": {},
   "outputs": [
    {
     "data": {
      "text/plain": [
       "<Axes: >"
      ]
     },
     "execution_count": 27,
     "metadata": {},
     "output_type": "execute_result"
    },
    {
     "data": {
      "image/png": "[encoded data removed]",
      "text/plain": [
       "<Figure size 640x480 with 1 Axes>"
      ]
     },
     "metadata": {},
     "output_type": "display_data"
    }
   ],
   "source": [
    "df[df[\"Flight Distance\"]<=df[\"Flight Distance\"].quantile(0.977)][\"Flight Distance\"].plot.box()"
   ]
  },
  {
   "cell_type": "markdown",
   "id": "5e9cd620-7b28-4f50-9b21-018ec35e0b64",
   "metadata": {},
   "source": [
    "* Check the shape of dataframe."
   ]
  },
  {
   "cell_type": "code",
   "execution_count": 28,
   "id": "5149f658-a98a-4d80-aecc-bcccbb1df67e",
   "metadata": {},
   "outputs": [
    {
     "data": {
      "text/plain": [
       "(126896,)"
      ]
     },
     "execution_count": 28,
     "metadata": {},
     "output_type": "execute_result"
    }
   ],
   "source": [
    "df[df[\"Flight Distance\"]<=df[\"Flight Distance\"].quantile(0.977)][\"Flight Distance\"].shape"
   ]
  },
  {
   "cell_type": "code",
   "execution_count": 29,
   "id": "b8260fb5-36d4-430a-9461-4c78f70a06ef",
   "metadata": {},
   "outputs": [
    {
     "data": {
      "text/plain": [
       "(129880, 23)"
      ]
     },
     "execution_count": 29,
     "metadata": {},
     "output_type": "execute_result"
    }
   ],
   "source": [
    "df.shape"
   ]
  },
  {
   "cell_type": "markdown",
   "id": "42046a97-ae73-48e5-9b05-61a7f46debdc",
   "metadata": {},
   "source": [
    "* Save the DataFrame "
   ]
  },
  {
   "cell_type": "code",
   "execution_count": 89,
   "id": "a98d2b96-0ac6-4dd4-8099-4d33e3abc0a8",
   "metadata": {},
   "outputs": [],
   "source": [
    "df= df[df[\"Flight Distance\"]<=df[\"Flight Distance\"].quantile(0.977)]"
   ]
  },
  {
   "cell_type": "code",
   "execution_count": 31,
   "id": "ff97ff9e-0971-4d4e-8791-d30bd6c3fbf2",
   "metadata": {},
   "outputs": [
    {
     "name": "stdout",
     "output_type": "stream",
     "text": [
      "<class 'pandas.core.frame.DataFrame'>\n",
      "Index: 126896 entries, 0 to 129878\n",
      "Data columns (total 23 columns):\n",
      " #   Column                             Non-Null Count   Dtype  \n",
      "---  ------                             --------------   -----  \n",
      " 0   satisfaction                       126896 non-null  object \n",
      " 1   Gender                             126896 non-null  object \n",
      " 2   Customer Type                      126896 non-null  object \n",
      " 3   Age                                126896 non-null  int64  \n",
      " 4   Type of Travel                     126896 non-null  object \n",
      " 5   Class                              126896 non-null  object \n",
      " 6   Flight Distance                    126896 non-null  int64  \n",
      " 7   Seat comfort                       126896 non-null  int64  \n",
      " 8   Departure/Arrival time convenient  126896 non-null  int64  \n",
      " 9   Food and drink                     126896 non-null  int64  \n",
      " 10  Gate location                      126896 non-null  int64  \n",
      " 11  Inflight wifi service              126896 non-null  int64  \n",
      " 12  Inflight entertainment             126896 non-null  int64  \n",
      " 13  Online support                     126896 non-null  int64  \n",
      " 14  Ease of Online booking             126896 non-null  int64  \n",
      " 15  On-board service                   126896 non-null  int64  \n",
      " 16  Leg room service                   126896 non-null  int64  \n",
      " 17  Baggage handling                   126896 non-null  int64  \n",
      " 18  Checkin service                    126896 non-null  int64  \n",
      " 19  Cleanliness                        126896 non-null  int64  \n",
      " 20  Online boarding                    126896 non-null  int64  \n",
      " 21  Departure Delay in Minutes         126896 non-null  int64  \n",
      " 22  Arrival Delay in Minutes           126520 non-null  float64\n",
      "dtypes: float64(1), int64(17), object(5)\n",
      "memory usage: 23.2+ MB\n"
     ]
    }
   ],
   "source": [
    "df.info()"
   ]
  },
  {
   "cell_type": "code",
   "execution_count": 32,
   "id": "c6e57f5c-ee7c-4745-8ba9-0e51260242b4",
   "metadata": {},
   "outputs": [
    {
     "data": {
      "text/plain": [
       "<Axes: >"
      ]
     },
     "execution_count": 32,
     "metadata": {},
     "output_type": "execute_result"
    },
    {
     "data": {
      "image/png": "[encoded data removed]",
      "text/plain": [
       "<Figure size 640x480 with 1 Axes>"
      ]
     },
     "metadata": {},
     "output_type": "display_data"
    }
   ],
   "source": [
    "df[\"Flight Distance\"].plot.box()"
   ]
  },
  {
   "cell_type": "code",
   "execution_count": 33,
   "id": "5c106767-e98c-4640-bc80-6abb46b8640c",
   "metadata": {},
   "outputs": [
    {
     "data": {
      "text/html": [
       "<div>\n",
       "<style scoped>\n",
       "    .dataframe tbody tr th:only-of-type {\n",
       "        vertical-align: middle;\n",
       "    }\n",
       "\n",
       "    .dataframe tbody tr th {\n",
       "        vertical-align: top;\n",
       "    }\n",
       "\n",
       "    .dataframe thead th {\n",
       "        text-align: right;\n",
       "    }\n",
       "</style>\n",
       "<table border=\"1\" class=\"dataframe\">\n",
       "  <thead>\n",
       "    <tr style=\"text-align: right;\">\n",
       "      <th></th>\n",
       "      <th>Age</th>\n",
       "      <th>Flight Distance</th>\n",
       "      <th>Seat comfort</th>\n",
       "      <th>Departure/Arrival time convenient</th>\n",
       "      <th>Food and drink</th>\n",
       "      <th>Gate location</th>\n",
       "      <th>Inflight wifi service</th>\n",
       "      <th>Inflight entertainment</th>\n",
       "      <th>Online support</th>\n",
       "      <th>Ease of Online booking</th>\n",
       "      <th>On-board service</th>\n",
       "      <th>Leg room service</th>\n",
       "      <th>Baggage handling</th>\n",
       "      <th>Checkin service</th>\n",
       "      <th>Cleanliness</th>\n",
       "      <th>Online boarding</th>\n",
       "      <th>Departure Delay in Minutes</th>\n",
       "      <th>Arrival Delay in Minutes</th>\n",
       "    </tr>\n",
       "  </thead>\n",
       "  <tbody>\n",
       "    <tr>\n",
       "      <th>count</th>\n",
       "      <td>126896.000000</td>\n",
       "      <td>126896.000000</td>\n",
       "      <td>126896.000000</td>\n",
       "      <td>126896.00000</td>\n",
       "      <td>126896.000000</td>\n",
       "      <td>126896.000000</td>\n",
       "      <td>126896.000000</td>\n",
       "      <td>126896.000000</td>\n",
       "      <td>126896.000000</td>\n",
       "      <td>126896.000000</td>\n",
       "      <td>126896.000000</td>\n",
       "      <td>126896.000000</td>\n",
       "      <td>126896.000000</td>\n",
       "      <td>126896.000000</td>\n",
       "      <td>126896.000000</td>\n",
       "      <td>126896.000000</td>\n",
       "      <td>126896.000000</td>\n",
       "      <td>126520.000000</td>\n",
       "    </tr>\n",
       "    <tr>\n",
       "      <th>mean</th>\n",
       "      <td>39.668981</td>\n",
       "      <td>1914.669737</td>\n",
       "      <td>2.840413</td>\n",
       "      <td>2.99074</td>\n",
       "      <td>2.849152</td>\n",
       "      <td>2.989606</td>\n",
       "      <td>3.242301</td>\n",
       "      <td>3.378822</td>\n",
       "      <td>3.518298</td>\n",
       "      <td>3.470787</td>\n",
       "      <td>3.470086</td>\n",
       "      <td>3.490402</td>\n",
       "      <td>3.695680</td>\n",
       "      <td>3.341997</td>\n",
       "      <td>3.708100</td>\n",
       "      <td>3.347190</td>\n",
       "      <td>14.146427</td>\n",
       "      <td>14.527924</td>\n",
       "    </tr>\n",
       "    <tr>\n",
       "      <th>std</th>\n",
       "      <td>15.126998</td>\n",
       "      <td>938.325817</td>\n",
       "      <td>1.394102</td>\n",
       "      <td>1.52885</td>\n",
       "      <td>1.443408</td>\n",
       "      <td>1.303912</td>\n",
       "      <td>1.319753</td>\n",
       "      <td>1.348232</td>\n",
       "      <td>1.308372</td>\n",
       "      <td>1.307125</td>\n",
       "      <td>1.269992</td>\n",
       "      <td>1.291948</td>\n",
       "      <td>1.156963</td>\n",
       "      <td>1.260086</td>\n",
       "      <td>1.151048</td>\n",
       "      <td>1.299965</td>\n",
       "      <td>36.217608</td>\n",
       "      <td>36.671598</td>\n",
       "    </tr>\n",
       "    <tr>\n",
       "      <th>min</th>\n",
       "      <td>7.000000</td>\n",
       "      <td>50.000000</td>\n",
       "      <td>0.000000</td>\n",
       "      <td>0.00000</td>\n",
       "      <td>0.000000</td>\n",
       "      <td>0.000000</td>\n",
       "      <td>0.000000</td>\n",
       "      <td>0.000000</td>\n",
       "      <td>0.000000</td>\n",
       "      <td>0.000000</td>\n",
       "      <td>0.000000</td>\n",
       "      <td>0.000000</td>\n",
       "      <td>1.000000</td>\n",
       "      <td>0.000000</td>\n",
       "      <td>0.000000</td>\n",
       "      <td>0.000000</td>\n",
       "      <td>0.000000</td>\n",
       "      <td>0.000000</td>\n",
       "    </tr>\n",
       "    <tr>\n",
       "      <th>25%</th>\n",
       "      <td>27.000000</td>\n",
       "      <td>1337.000000</td>\n",
       "      <td>2.000000</td>\n",
       "      <td>2.00000</td>\n",
       "      <td>2.000000</td>\n",
       "      <td>2.000000</td>\n",
       "      <td>2.000000</td>\n",
       "      <td>2.000000</td>\n",
       "      <td>3.000000</td>\n",
       "      <td>2.000000</td>\n",
       "      <td>3.000000</td>\n",
       "      <td>2.000000</td>\n",
       "      <td>3.000000</td>\n",
       "      <td>3.000000</td>\n",
       "      <td>3.000000</td>\n",
       "      <td>2.000000</td>\n",
       "      <td>0.000000</td>\n",
       "      <td>0.000000</td>\n",
       "    </tr>\n",
       "    <tr>\n",
       "      <th>50%</th>\n",
       "      <td>40.000000</td>\n",
       "      <td>1901.000000</td>\n",
       "      <td>3.000000</td>\n",
       "      <td>3.00000</td>\n",
       "      <td>3.000000</td>\n",
       "      <td>3.000000</td>\n",
       "      <td>3.000000</td>\n",
       "      <td>4.000000</td>\n",
       "      <td>4.000000</td>\n",
       "      <td>4.000000</td>\n",
       "      <td>4.000000</td>\n",
       "      <td>4.000000</td>\n",
       "      <td>4.000000</td>\n",
       "      <td>3.000000</td>\n",
       "      <td>4.000000</td>\n",
       "      <td>3.000000</td>\n",
       "      <td>0.000000</td>\n",
       "      <td>0.000000</td>\n",
       "    </tr>\n",
       "    <tr>\n",
       "      <th>75%</th>\n",
       "      <td>51.000000</td>\n",
       "      <td>2489.000000</td>\n",
       "      <td>4.000000</td>\n",
       "      <td>4.00000</td>\n",
       "      <td>4.000000</td>\n",
       "      <td>4.000000</td>\n",
       "      <td>4.000000</td>\n",
       "      <td>4.000000</td>\n",
       "      <td>5.000000</td>\n",
       "      <td>5.000000</td>\n",
       "      <td>4.000000</td>\n",
       "      <td>5.000000</td>\n",
       "      <td>5.000000</td>\n",
       "      <td>4.000000</td>\n",
       "      <td>5.000000</td>\n",
       "      <td>4.000000</td>\n",
       "      <td>12.000000</td>\n",
       "      <td>13.000000</td>\n",
       "    </tr>\n",
       "    <tr>\n",
       "      <th>max</th>\n",
       "      <td>85.000000</td>\n",
       "      <td>4204.000000</td>\n",
       "      <td>5.000000</td>\n",
       "      <td>5.00000</td>\n",
       "      <td>5.000000</td>\n",
       "      <td>5.000000</td>\n",
       "      <td>5.000000</td>\n",
       "      <td>5.000000</td>\n",
       "      <td>5.000000</td>\n",
       "      <td>5.000000</td>\n",
       "      <td>5.000000</td>\n",
       "      <td>5.000000</td>\n",
       "      <td>5.000000</td>\n",
       "      <td>5.000000</td>\n",
       "      <td>5.000000</td>\n",
       "      <td>5.000000</td>\n",
       "      <td>1592.000000</td>\n",
       "      <td>1584.000000</td>\n",
       "    </tr>\n",
       "  </tbody>\n",
       "</table>\n",
       "</div>"
      ],
      "text/plain": [
       "                 Age  Flight Distance   Seat comfort  \\\n",
       "count  126896.000000    126896.000000  126896.000000   \n",
       "mean       39.668981      1914.669737       2.840413   \n",
       "std        15.126998       938.325817       1.394102   \n",
       "min         7.000000        50.000000       0.000000   \n",
       "25%        27.000000      1337.000000       2.000000   \n",
       "50%        40.000000      1901.000000       3.000000   \n",
       "75%        51.000000      2489.000000       4.000000   \n",
       "max        85.000000      4204.000000       5.000000   \n",
       "\n",
       "       Departure/Arrival time convenient  Food and drink  Gate location  \\\n",
       "count                       126896.00000   126896.000000  126896.000000   \n",
       "mean                             2.99074        2.849152       2.989606   \n",
       "std                              1.52885        1.443408       1.303912   \n",
       "min                              0.00000        0.000000       0.000000   \n",
       "25%                              2.00000        2.000000       2.000000   \n",
       "50%                              3.00000        3.000000       3.000000   \n",
       "75%                              4.00000        4.000000       4.000000   \n",
       "max                              5.00000        5.000000       5.000000   \n",
       "\n",
       "       Inflight wifi service  Inflight entertainment  Online support  \\\n",
       "count          126896.000000           126896.000000   126896.000000   \n",
       "mean                3.242301                3.378822        3.518298   \n",
       "std                 1.319753                1.348232        1.308372   \n",
       "min                 0.000000                0.000000        0.000000   \n",
       "25%                 2.000000                2.000000        3.000000   \n",
       "50%                 3.000000                4.000000        4.000000   \n",
       "75%                 4.000000                4.000000        5.000000   \n",
       "max                 5.000000                5.000000        5.000000   \n",
       "\n",
       "       Ease of Online booking  On-board service  Leg room service  \\\n",
       "count           126896.000000     126896.000000     126896.000000   \n",
       "mean                 3.470787          3.470086          3.490402   \n",
       "std                  1.307125          1.269992          1.291948   \n",
       "min                  0.000000          0.000000          0.000000   \n",
       "25%                  2.000000          3.000000          2.000000   \n",
       "50%                  4.000000          4.000000          4.000000   \n",
       "75%                  5.000000          4.000000          5.000000   \n",
       "max                  5.000000          5.000000          5.000000   \n",
       "\n",
       "       Baggage handling  Checkin service    Cleanliness  Online boarding  \\\n",
       "count     126896.000000    126896.000000  126896.000000    126896.000000   \n",
       "mean           3.695680         3.341997       3.708100         3.347190   \n",
       "std            1.156963         1.260086       1.151048         1.299965   \n",
       "min            1.000000         0.000000       0.000000         0.000000   \n",
       "25%            3.000000         3.000000       3.000000         2.000000   \n",
       "50%            4.000000         3.000000       4.000000         3.000000   \n",
       "75%            5.000000         4.000000       5.000000         4.000000   \n",
       "max            5.000000         5.000000       5.000000         5.000000   \n",
       "\n",
       "       Departure Delay in Minutes  Arrival Delay in Minutes  \n",
       "count               126896.000000             126520.000000  \n",
       "mean                    14.146427                 14.527924  \n",
       "std                     36.217608                 36.671598  \n",
       "min                      0.000000                  0.000000  \n",
       "25%                      0.000000                  0.000000  \n",
       "50%                      0.000000                  0.000000  \n",
       "75%                     12.000000                 13.000000  \n",
       "max                   1592.000000               1584.000000  "
      ]
     },
     "execution_count": 33,
     "metadata": {},
     "output_type": "execute_result"
    }
   ],
   "source": [
    "df.describe()"
   ]
  },
  {
   "cell_type": "markdown",
   "id": "29c5a789-ec39-4a0e-a9b0-f119c2b412db",
   "metadata": {},
   "source": [
    "* Here we use plot.box function to check the outliers.\n",
    "* In our DataFrame(\"Departure Delay in Minues\") there are too many ouliers are seen that's why remove that outliers."
   ]
  },
  {
   "cell_type": "code",
   "execution_count": 34,
   "id": "5a229086-f29e-40e7-9cf7-e2158b0345ee",
   "metadata": {},
   "outputs": [
    {
     "data": {
      "text/plain": [
       "<Axes: >"
      ]
     },
     "execution_count": 34,
     "metadata": {},
     "output_type": "execute_result"
    },
    {
     "data": {
      "image/png": "[encoded data removed]",
      "text/plain": [
       "<Figure size 640x480 with 1 Axes>"
      ]
     },
     "metadata": {},
     "output_type": "display_data"
    }
   ],
   "source": [
    "df[\"Departure Delay in Minutes\"].plot.box()"
   ]
  },
  {
   "cell_type": "code",
   "execution_count": 35,
   "id": "9abf8b95-5c6b-4098-acc6-419f489b743a",
   "metadata": {},
   "outputs": [
    {
     "data": {
      "text/plain": [
       "42.0"
      ]
     },
     "execution_count": 35,
     "metadata": {},
     "output_type": "execute_result"
    }
   ],
   "source": [
    "df[\"Departure Delay in Minutes\"].quantile(0.9)"
   ]
  },
  {
   "cell_type": "markdown",
   "id": "bb08c43f-155e-40cc-af2b-70e24a6bec85",
   "metadata": {},
   "source": [
    "* Here we change the name of column."
   ]
  },
  {
   "cell_type": "code",
   "execution_count": 36,
   "id": "9e04b2a2-f914-4c48-ac15-54b7461c4df9",
   "metadata": {},
   "outputs": [],
   "source": [
    "df[\"Dept_Delay\"]= df[\"Departure Delay in Minutes\"]\n",
    "df[\"Arr_Delay\"]= df[\"Departure Delay in Minutes\"]"
   ]
  },
  {
   "cell_type": "markdown",
   "id": "b06f568e-e32c-47bb-b18c-f42ea1a5c8b7",
   "metadata": {},
   "source": [
    "* Drop that old column name after adding new name of column."
   ]
  },
  {
   "cell_type": "code",
   "execution_count": 37,
   "id": "337ea282-30f4-40ed-ac6e-1cf0abd3a08e",
   "metadata": {},
   "outputs": [],
   "source": [
    "df.drop([\"Departure Delay in Minutes\",\"Arrival Delay in Minutes\"],axis=1, inplace=True)"
   ]
  },
  {
   "cell_type": "markdown",
   "id": "4b4f8569-119e-4145-97df-b316d0945a1a",
   "metadata": {},
   "source": [
    "* Check the information of DataFrame by removing all outliers and null values."
   ]
  },
  {
   "cell_type": "code",
   "execution_count": 38,
   "id": "841a9de5-56f5-4bd6-91d3-42c79b8b8ea4",
   "metadata": {},
   "outputs": [
    {
     "name": "stdout",
     "output_type": "stream",
     "text": [
      "<class 'pandas.core.frame.DataFrame'>\n",
      "Index: 126896 entries, 0 to 129878\n",
      "Data columns (total 23 columns):\n",
      " #   Column                             Non-Null Count   Dtype \n",
      "---  ------                             --------------   ----- \n",
      " 0   satisfaction                       126896 non-null  object\n",
      " 1   Gender                             126896 non-null  object\n",
      " 2   Customer Type                      126896 non-null  object\n",
      " 3   Age                                126896 non-null  int64 \n",
      " 4   Type of Travel                     126896 non-null  object\n",
      " 5   Class                              126896 non-null  object\n",
      " 6   Flight Distance                    126896 non-null  int64 \n",
      " 7   Seat comfort                       126896 non-null  int64 \n",
      " 8   Departure/Arrival time convenient  126896 non-null  int64 \n",
      " 9   Food and drink                     126896 non-null  int64 \n",
      " 10  Gate location                      126896 non-null  int64 \n",
      " 11  Inflight wifi service              126896 non-null  int64 \n",
      " 12  Inflight entertainment             126896 non-null  int64 \n",
      " 13  Online support                     126896 non-null  int64 \n",
      " 14  Ease of Online booking             126896 non-null  int64 \n",
      " 15  On-board service                   126896 non-null  int64 \n",
      " 16  Leg room service                   126896 non-null  int64 \n",
      " 17  Baggage handling                   126896 non-null  int64 \n",
      " 18  Checkin service                    126896 non-null  int64 \n",
      " 19  Cleanliness                        126896 non-null  int64 \n",
      " 20  Online boarding                    126896 non-null  int64 \n",
      " 21  Dept_Delay                         126896 non-null  int64 \n",
      " 22  Arr_Delay                          126896 non-null  int64 \n",
      "dtypes: int64(18), object(5)\n",
      "memory usage: 23.2+ MB\n"
     ]
    }
   ],
   "source": [
    "df.info()"
   ]
  },
  {
   "cell_type": "code",
   "execution_count": 39,
   "id": "f6e8739e-f697-4094-abb7-cc7460071864",
   "metadata": {},
   "outputs": [
    {
     "data": {
      "text/plain": [
       "<Axes: >"
      ]
     },
     "execution_count": 39,
     "metadata": {},
     "output_type": "execute_result"
    },
    {
     "data": {
      "image/png": "[encoded data removed]",
      "text/plain": [
       "<Figure size 640x480 with 1 Axes>"
      ]
     },
     "metadata": {},
     "output_type": "display_data"
    }
   ],
   "source": [
    "df[df[\"Dept_Delay\"]<= df[\"Dept_Delay\"].quantile(0.95)][\"Dept_Delay\"].plot.box()"
   ]
  },
  {
   "cell_type": "code",
   "execution_count": 40,
   "id": "ba68abda-a5cf-4c6b-a393-6f3696d60af4",
   "metadata": {},
   "outputs": [
    {
     "data": {
      "text/plain": [
       "(114220,)"
      ]
     },
     "execution_count": 40,
     "metadata": {},
     "output_type": "execute_result"
    }
   ],
   "source": [
    "df[df[\"Dept_Delay\"]<= df[\"Dept_Delay\"].quantile(0.9)][\"Dept_Delay\"].shape"
   ]
  },
  {
   "cell_type": "code",
   "execution_count": 41,
   "id": "bec924da-ca4c-4739-9c0a-54fe6cd208de",
   "metadata": {},
   "outputs": [
    {
     "name": "stdout",
     "output_type": "stream",
     "text": [
      "<class 'pandas.core.frame.DataFrame'>\n",
      "Index: 126896 entries, 0 to 129878\n",
      "Data columns (total 23 columns):\n",
      " #   Column                             Non-Null Count   Dtype \n",
      "---  ------                             --------------   ----- \n",
      " 0   satisfaction                       126896 non-null  object\n",
      " 1   Gender                             126896 non-null  object\n",
      " 2   Customer Type                      126896 non-null  object\n",
      " 3   Age                                126896 non-null  int64 \n",
      " 4   Type of Travel                     126896 non-null  object\n",
      " 5   Class                              126896 non-null  object\n",
      " 6   Flight Distance                    126896 non-null  int64 \n",
      " 7   Seat comfort                       126896 non-null  int64 \n",
      " 8   Departure/Arrival time convenient  126896 non-null  int64 \n",
      " 9   Food and drink                     126896 non-null  int64 \n",
      " 10  Gate location                      126896 non-null  int64 \n",
      " 11  Inflight wifi service              126896 non-null  int64 \n",
      " 12  Inflight entertainment             126896 non-null  int64 \n",
      " 13  Online support                     126896 non-null  int64 \n",
      " 14  Ease of Online booking             126896 non-null  int64 \n",
      " 15  On-board service                   126896 non-null  int64 \n",
      " 16  Leg room service                   126896 non-null  int64 \n",
      " 17  Baggage handling                   126896 non-null  int64 \n",
      " 18  Checkin service                    126896 non-null  int64 \n",
      " 19  Cleanliness                        126896 non-null  int64 \n",
      " 20  Online boarding                    126896 non-null  int64 \n",
      " 21  Dept_Delay                         126896 non-null  int64 \n",
      " 22  Arr_Delay                          126896 non-null  int64 \n",
      "dtypes: int64(18), object(5)\n",
      "memory usage: 23.2+ MB\n"
     ]
    }
   ],
   "source": [
    "df.info()"
   ]
  },
  {
   "cell_type": "code",
   "execution_count": 42,
   "id": "f2b37893-a3a0-491b-bbd3-84fa9b4a6947",
   "metadata": {},
   "outputs": [
    {
     "data": {
      "text/plain": [
       "<Axes: >"
      ]
     },
     "execution_count": 42,
     "metadata": {},
     "output_type": "execute_result"
    },
    {
     "data": {
      "image/png": "[encoded data removed]",
      "text/plain": [
       "<Figure size 640x480 with 1 Axes>"
      ]
     },
     "metadata": {},
     "output_type": "display_data"
    }
   ],
   "source": [
    "df[\"Arr_Delay\"].plot.box()"
   ]
  },
  {
   "cell_type": "code",
   "execution_count": 43,
   "id": "388b133b-db9e-41b1-890b-52d7afa7ac8d",
   "metadata": {},
   "outputs": [
    {
     "data": {
      "text/plain": [
       "<Axes: >"
      ]
     },
     "execution_count": 43,
     "metadata": {},
     "output_type": "execute_result"
    },
    {
     "data": {
      "image/png": "[encoded data removed]",
      "text/plain": [
       "<Figure size 640x480 with 1 Axes>"
      ]
     },
     "metadata": {},
     "output_type": "display_data"
    }
   ],
   "source": [
    "df[df[\"Arr_Delay\"]<=df[\"Arr_Delay\"].quantile(0.95)][\"Arr_Delay\"].plot.box()"
   ]
  },
  {
   "cell_type": "code",
   "execution_count": 44,
   "id": "488e5822-692c-4929-8865-a876f2a911f8",
   "metadata": {},
   "outputs": [
    {
     "data": {
      "text/plain": [
       "(120591,)"
      ]
     },
     "execution_count": 44,
     "metadata": {},
     "output_type": "execute_result"
    }
   ],
   "source": [
    "df[df[\"Arr_Delay\"]<= df[\"Arr_Delay\"].quantile(0.95)][\"Arr_Delay\"].shape"
   ]
  },
  {
   "cell_type": "code",
   "execution_count": 45,
   "id": "8de2974d-2794-4476-903d-ad5617343875",
   "metadata": {},
   "outputs": [],
   "source": [
    "df = df[df[\"Arr_Delay\"]<= df[\"Arr_Delay\"].quantile(0.95)]"
   ]
  },
  {
   "cell_type": "code",
   "execution_count": 46,
   "id": "f3d469a7-2573-4786-873d-7514339c9191",
   "metadata": {},
   "outputs": [
    {
     "name": "stdout",
     "output_type": "stream",
     "text": [
      "<class 'pandas.core.frame.DataFrame'>\n",
      "Index: 120591 entries, 0 to 129875\n",
      "Data columns (total 23 columns):\n",
      " #   Column                             Non-Null Count   Dtype \n",
      "---  ------                             --------------   ----- \n",
      " 0   satisfaction                       120591 non-null  object\n",
      " 1   Gender                             120591 non-null  object\n",
      " 2   Customer Type                      120591 non-null  object\n",
      " 3   Age                                120591 non-null  int64 \n",
      " 4   Type of Travel                     120591 non-null  object\n",
      " 5   Class                              120591 non-null  object\n",
      " 6   Flight Distance                    120591 non-null  int64 \n",
      " 7   Seat comfort                       120591 non-null  int64 \n",
      " 8   Departure/Arrival time convenient  120591 non-null  int64 \n",
      " 9   Food and drink                     120591 non-null  int64 \n",
      " 10  Gate location                      120591 non-null  int64 \n",
      " 11  Inflight wifi service              120591 non-null  int64 \n",
      " 12  Inflight entertainment             120591 non-null  int64 \n",
      " 13  Online support                     120591 non-null  int64 \n",
      " 14  Ease of Online booking             120591 non-null  int64 \n",
      " 15  On-board service                   120591 non-null  int64 \n",
      " 16  Leg room service                   120591 non-null  int64 \n",
      " 17  Baggage handling                   120591 non-null  int64 \n",
      " 18  Checkin service                    120591 non-null  int64 \n",
      " 19  Cleanliness                        120591 non-null  int64 \n",
      " 20  Online boarding                    120591 non-null  int64 \n",
      " 21  Dept_Delay                         120591 non-null  int64 \n",
      " 22  Arr_Delay                          120591 non-null  int64 \n",
      "dtypes: int64(18), object(5)\n",
      "memory usage: 22.1+ MB\n"
     ]
    }
   ],
   "source": [
    "df.info()"
   ]
  },
  {
   "cell_type": "markdown",
   "id": "c04d8554-e39a-4065-bafe-8eafd5cbf840",
   "metadata": {},
   "source": [
    "# Plot Graph\n",
    "* Countplot is used to create bar charts which will shows the count of observations.\n",
    "* Used to check the relation between two columns.\n",
    "* Output : The graph shows the how many customers satisfied or dissatisfied with seat comfort facility."
   ]
  },
  {
   "cell_type": "code",
   "execution_count": 47,
   "id": "14c62049-6660-4c31-9a05-d11419101078",
   "metadata": {},
   "outputs": [
    {
     "data": {
      "text/plain": [
       "<Axes: xlabel='Seat comfort', ylabel='count'>"
      ]
     },
     "execution_count": 47,
     "metadata": {},
     "output_type": "execute_result"
    },
    {
     "data": {
      "image/png": "[encoded data removed]",
      "text/plain": [
       "<Figure size 640x480 with 1 Axes>"
      ]
     },
     "metadata": {},
     "output_type": "display_data"
    }
   ],
   "source": [
    "sns.countplot(x=df[\"Seat comfort\"], hue = df[\"satisfaction\"])"
   ]
  },
  {
   "cell_type": "code",
   "execution_count": 48,
   "id": "4c46b903-aa07-462f-a8f3-6c3fdb379c10",
   "metadata": {},
   "outputs": [
    {
     "data": {
      "text/plain": [
       "<Axes: xlabel='Departure/Arrival time convenient', ylabel='count'>"
      ]
     },
     "execution_count": 48,
     "metadata": {},
     "output_type": "execute_result"
    },
    {
     "data": {
      "image/png": "[encoded data removed]",
      "text/plain": [
       "<Figure size 640x480 with 1 Axes>"
      ]
     },
     "metadata": {},
     "output_type": "display_data"
    }
   ],
   "source": [
    "sns.countplot(x=df[\"Departure/Arrival time convenient\"], hue = df[\"satisfaction\"])"
   ]
  },
  {
   "cell_type": "code",
   "execution_count": 49,
   "id": "0346cd00-03b5-4ee8-a826-4ec58f22ca20",
   "metadata": {},
   "outputs": [
    {
     "data": {
      "text/plain": [
       "<Axes: xlabel='Food and drink', ylabel='count'>"
      ]
     },
     "execution_count": 49,
     "metadata": {},
     "output_type": "execute_result"
    },
    {
     "data": {
      "image/png": "[encoded data removed]",
      "text/plain": [
       "<Figure size 640x480 with 1 Axes>"
      ]
     },
     "metadata": {},
     "output_type": "display_data"
    }
   ],
   "source": [
    "sns.countplot(x=df[\"Food and drink\"], hue = df[\"satisfaction\"])"
   ]
  },
  {
   "cell_type": "code",
   "execution_count": 50,
   "id": "c9d5380c-e7fb-47dd-aff8-d172563ad29f",
   "metadata": {},
   "outputs": [
    {
     "data": {
      "text/plain": [
       "<Axes: xlabel='Gate location', ylabel='count'>"
      ]
     },
     "execution_count": 50,
     "metadata": {},
     "output_type": "execute_result"
    },
    {
     "data": {
      "image/png": "[encoded data removed]",
      "text/plain": [
       "<Figure size 640x480 with 1 Axes>"
      ]
     },
     "metadata": {},
     "output_type": "display_data"
    }
   ],
   "source": [
    "sns.countplot(x=df[\"Gate location\"], hue = df[\"satisfaction\"])"
   ]
  },
  {
   "cell_type": "markdown",
   "id": "6d999a14-7221-481b-b150-e3038290eeae",
   "metadata": {},
   "source": [
    "* In following DataFrame there is Inflight Wifi Services provided .\n",
    "* How many of customers are satisfied or dissatisfied with wifi services."
   ]
  },
  {
   "cell_type": "code",
   "execution_count": 51,
   "id": "5c489326-9380-4fa9-9900-429be252bc47",
   "metadata": {},
   "outputs": [
    {
     "data": {
      "text/plain": [
       "<Axes: xlabel='Inflight wifi service', ylabel='count'>"
      ]
     },
     "execution_count": 51,
     "metadata": {},
     "output_type": "execute_result"
    },
    {
     "data": {
      "image/png": "[encoded data removed]",
      "text/plain": [
       "<Figure size 640x480 with 1 Axes>"
      ]
     },
     "metadata": {},
     "output_type": "display_data"
    }
   ],
   "source": [
    "sns.countplot(x=df[\"Inflight wifi service\"], hue = df[\"satisfaction\"])"
   ]
  },
  {
   "cell_type": "code",
   "execution_count": 52,
   "id": "b2a4d4b5-5c7a-46e3-b447-0c4d88945f80",
   "metadata": {},
   "outputs": [
    {
     "data": {
      "text/plain": [
       "<Axes: xlabel='Inflight entertainment', ylabel='count'>"
      ]
     },
     "execution_count": 52,
     "metadata": {},
     "output_type": "execute_result"
    },
    {
     "data": {
      "image/png": "[encoded data removed]",
      "text/plain": [
       "<Figure size 640x480 with 1 Axes>"
      ]
     },
     "metadata": {},
     "output_type": "display_data"
    }
   ],
   "source": [
    "sns.countplot(x=df[\"Inflight entertainment\"], hue = df[\"satisfaction\"])"
   ]
  },
  {
   "cell_type": "code",
   "execution_count": 53,
   "id": "e0e2767f-2ccf-40fd-a22a-8f7859ce45d9",
   "metadata": {},
   "outputs": [
    {
     "data": {
      "text/plain": [
       "<Axes: xlabel='Online support', ylabel='count'>"
      ]
     },
     "execution_count": 53,
     "metadata": {},
     "output_type": "execute_result"
    },
    {
     "data": {
      "image/png": "[encoded data removed]",
      "text/plain": [
       "<Figure size 640x480 with 1 Axes>"
      ]
     },
     "metadata": {},
     "output_type": "display_data"
    }
   ],
   "source": [
    "sns.countplot(x=df[\"Online support\"], hue = df[\"satisfaction\"])"
   ]
  },
  {
   "cell_type": "code",
   "execution_count": 54,
   "id": "ca6a9616-eb42-434a-b62b-9576f8dde159",
   "metadata": {},
   "outputs": [
    {
     "data": {
      "text/plain": [
       "<Axes: xlabel='Ease of Online booking', ylabel='count'>"
      ]
     },
     "execution_count": 54,
     "metadata": {},
     "output_type": "execute_result"
    },
    {
     "data": {
      "image/png": "[encoded data removed]",
      "text/plain": [
       "<Figure size 640x480 with 1 Axes>"
      ]
     },
     "metadata": {},
     "output_type": "display_data"
    }
   ],
   "source": [
    "sns.countplot(x=df[\"Ease of Online booking\"], hue = df[\"satisfaction\"])"
   ]
  },
  {
   "cell_type": "code",
   "execution_count": 55,
   "id": "20051a9d-13e8-48ab-9490-fecc0afdba75",
   "metadata": {},
   "outputs": [
    {
     "data": {
      "text/plain": [
       "<Axes: xlabel='On-board service', ylabel='count'>"
      ]
     },
     "execution_count": 55,
     "metadata": {},
     "output_type": "execute_result"
    },
    {
     "data": {
      "image/png": "[encoded data removed]",
      "text/plain": [
       "<Figure size 640x480 with 1 Axes>"
      ]
     },
     "metadata": {},
     "output_type": "display_data"
    }
   ],
   "source": [
    "sns.countplot(x=df[\"On-board service\"], hue = df[\"satisfaction\"])"
   ]
  },
  {
   "cell_type": "code",
   "execution_count": 56,
   "id": "20c5a36a-b80a-49c8-8778-37f89055ecdc",
   "metadata": {},
   "outputs": [
    {
     "data": {
      "text/plain": [
       "<Axes: xlabel='Leg room service', ylabel='count'>"
      ]
     },
     "execution_count": 56,
     "metadata": {},
     "output_type": "execute_result"
    },
    {
     "data": {
      "image/png": "[encoded data removed]",
      "text/plain": [
       "<Figure size 640x480 with 1 Axes>"
      ]
     },
     "metadata": {},
     "output_type": "display_data"
    }
   ],
   "source": [
    "sns.countplot(x=df[\"Leg room service\"], hue = df[\"satisfaction\"])"
   ]
  },
  {
   "cell_type": "code",
   "execution_count": 57,
   "id": "216a169b-3356-4a9e-a2e1-955dfe8d9673",
   "metadata": {},
   "outputs": [
    {
     "data": {
      "text/plain": [
       "<Axes: xlabel='Baggage handling', ylabel='count'>"
      ]
     },
     "execution_count": 57,
     "metadata": {},
     "output_type": "execute_result"
    },
    {
     "data": {
      "image/png": "[encoded data removed]",
      "text/plain": [
       "<Figure size 640x480 with 1 Axes>"
      ]
     },
     "metadata": {},
     "output_type": "display_data"
    }
   ],
   "source": [
    "sns.countplot(x=df[\"Baggage handling\"], hue = df[\"satisfaction\"])"
   ]
  },
  {
   "cell_type": "code",
   "execution_count": 58,
   "id": "ea523a81-3c3b-41bc-b716-04f372fb00fc",
   "metadata": {},
   "outputs": [
    {
     "data": {
      "text/plain": [
       "<Axes: xlabel='Checkin service', ylabel='count'>"
      ]
     },
     "execution_count": 58,
     "metadata": {},
     "output_type": "execute_result"
    },
    {
     "data": {
      "image/png": "[encoded data removed]",
      "text/plain": [
       "<Figure size 640x480 with 1 Axes>"
      ]
     },
     "metadata": {},
     "output_type": "display_data"
    }
   ],
   "source": [
    "sns.countplot(x=df[\"Checkin service\"], hue = df[\"satisfaction\"])"
   ]
  },
  {
   "cell_type": "code",
   "execution_count": 59,
   "id": "14b3c356-42bc-4705-ac3d-ebcfe7dc2799",
   "metadata": {},
   "outputs": [
    {
     "data": {
      "text/plain": [
       "<Axes: xlabel='Cleanliness', ylabel='count'>"
      ]
     },
     "execution_count": 59,
     "metadata": {},
     "output_type": "execute_result"
    },
    {
     "data": {
      "image/png": "[encoded data removed]",
      "text/plain": [
       "<Figure size 640x480 with 1 Axes>"
      ]
     },
     "metadata": {},
     "output_type": "display_data"
    }
   ],
   "source": [
    "sns.countplot(x=df[\"Cleanliness\"], hue = df[\"satisfaction\"])"
   ]
  },
  {
   "cell_type": "code",
   "execution_count": 60,
   "id": "7c7b4419-eb57-4a52-98d7-6331c60c2d1d",
   "metadata": {},
   "outputs": [
    {
     "data": {
      "text/plain": [
       "<Axes: xlabel='Online boarding', ylabel='count'>"
      ]
     },
     "execution_count": 60,
     "metadata": {},
     "output_type": "execute_result"
    },
    {
     "data": {
      "image/png": "[encoded data removed]",
      "text/plain": [
       "<Figure size 640x480 with 1 Axes>"
      ]
     },
     "metadata": {},
     "output_type": "display_data"
    }
   ],
   "source": [
    "sns.countplot(x=df[\"Online boarding\"], hue = df[\"satisfaction\"])"
   ]
  },
  {
   "cell_type": "markdown",
   "id": "f9ec1ee2-bf96-4b86-b8cf-e95d64486cc1",
   "metadata": {},
   "source": [
    "* Checking the null value of columns in data."
   ]
  },
  {
   "cell_type": "code",
   "execution_count": 61,
   "id": "7838d392-62f1-4122-89c1-c395d87e1391",
   "metadata": {},
   "outputs": [
    {
     "data": {
      "text/plain": [
       "satisfaction                         0\n",
       "Gender                               0\n",
       "Customer Type                        0\n",
       "Age                                  0\n",
       "Type of Travel                       0\n",
       "Class                                0\n",
       "Flight Distance                      0\n",
       "Seat comfort                         0\n",
       "Departure/Arrival time convenient    0\n",
       "Food and drink                       0\n",
       "Gate location                        0\n",
       "Inflight wifi service                0\n",
       "Inflight entertainment               0\n",
       "Online support                       0\n",
       "Ease of Online booking               0\n",
       "On-board service                     0\n",
       "Leg room service                     0\n",
       "Baggage handling                     0\n",
       "Checkin service                      0\n",
       "Cleanliness                          0\n",
       "Online boarding                      0\n",
       "Dept_Delay                           0\n",
       "Arr_Delay                            0\n",
       "dtype: int64"
      ]
     },
     "execution_count": 61,
     "metadata": {},
     "output_type": "execute_result"
    }
   ],
   "source": [
    "df.isna().sum()"
   ]
  },
  {
   "cell_type": "markdown",
   "id": "770cc9b9-6eb7-4567-80d7-91fae74d6134",
   "metadata": {},
   "source": [
    "* In DataFrame create a new column and name that column \"Male\", df contains binary values reprents the gender information from the gender column, The male column will have:- 1) A value of 1 if the gender is \"Male\" and 2) A value of 0 if the gender is \"Female\".\n",
    "* Convert categorical column \"Gender\" into a numeric format."
   ]
  },
  {
   "cell_type": "code",
   "execution_count": 62,
   "id": "77a59c1f-9c11-442a-aa55-9c74b76ee0f2",
   "metadata": {},
   "outputs": [],
   "source": [
    "df[\"Male\"] = pd.get_dummies(df[\"Gender\"],dtype =\"int\", drop_first = True)"
   ]
  },
  {
   "cell_type": "markdown",
   "id": "d7e762e6-033a-424e-9bb7-7b30bdae913c",
   "metadata": {},
   "source": [
    "* Drop that gender column."
   ]
  },
  {
   "cell_type": "code",
   "execution_count": 63,
   "id": "ebc60070-e9b6-4595-968c-a02fb0182819",
   "metadata": {},
   "outputs": [],
   "source": [
    "df.drop(\"Gender\", axis=1 ,inplace=True)"
   ]
  },
  {
   "cell_type": "markdown",
   "id": "c27c1290-a4c5-4d46-beba-2219034adccd",
   "metadata": {},
   "source": [
    "* To check the unique values in Customer Type Column."
   ]
  },
  {
   "cell_type": "code",
   "execution_count": 64,
   "id": "6f2c8b57-8a9c-489b-927e-5d2baf981205",
   "metadata": {},
   "outputs": [
    {
     "data": {
      "text/plain": [
       "array(['Loyal Customer', 'disloyal Customer'], dtype=object)"
      ]
     },
     "execution_count": 64,
     "metadata": {},
     "output_type": "execute_result"
    }
   ],
   "source": [
    "df[\"Customer Type\"].unique()"
   ]
  },
  {
   "cell_type": "markdown",
   "id": "ac96b347-d017-443a-9e45-c7b8df7f29cb",
   "metadata": {},
   "source": [
    "* Map applies the lambda function to each element in the \"Customer Type\" Column.\n",
    "* The lambda function checks the first letter of each value (X) in the \"Customer Type\" Column.\n",
    "* If the first letter of 'x' is \"L\" , it returns 1 , indicating customer is \"Loyal\"\n",
    "* Otherwise, returns 0, indicating customer is \"Not Loyal\"."
   ]
  },
  {
   "cell_type": "code",
   "execution_count": 65,
   "id": "8036e516-70ea-4f7e-acc7-2df3157dc187",
   "metadata": {},
   "outputs": [],
   "source": [
    "df[\"Loyal_customer\"]= list(map(lambda x:1 if x[0]==\"L\" else 0, df[\"Customer Type\"]))"
   ]
  },
  {
   "cell_type": "markdown",
   "id": "2f2c1a01-ef0d-43a1-a77c-275495343649",
   "metadata": {},
   "source": [
    "* Check the column after applying lambda function."
   ]
  },
  {
   "cell_type": "code",
   "execution_count": 66,
   "id": "5cfbdd11-8ddc-4000-8075-03f8d2ad639c",
   "metadata": {},
   "outputs": [
    {
     "data": {
      "text/html": [
       "<div>\n",
       "<style scoped>\n",
       "    .dataframe tbody tr th:only-of-type {\n",
       "        vertical-align: middle;\n",
       "    }\n",
       "\n",
       "    .dataframe tbody tr th {\n",
       "        vertical-align: top;\n",
       "    }\n",
       "\n",
       "    .dataframe thead th {\n",
       "        text-align: right;\n",
       "    }\n",
       "</style>\n",
       "<table border=\"1\" class=\"dataframe\">\n",
       "  <thead>\n",
       "    <tr style=\"text-align: right;\">\n",
       "      <th></th>\n",
       "      <th>Customer Type</th>\n",
       "      <th>Loyal_customer</th>\n",
       "    </tr>\n",
       "  </thead>\n",
       "  <tbody>\n",
       "    <tr>\n",
       "      <th>0</th>\n",
       "      <td>Loyal Customer</td>\n",
       "      <td>1</td>\n",
       "    </tr>\n",
       "    <tr>\n",
       "      <th>2</th>\n",
       "      <td>Loyal Customer</td>\n",
       "      <td>1</td>\n",
       "    </tr>\n",
       "    <tr>\n",
       "      <th>3</th>\n",
       "      <td>Loyal Customer</td>\n",
       "      <td>1</td>\n",
       "    </tr>\n",
       "    <tr>\n",
       "      <th>4</th>\n",
       "      <td>Loyal Customer</td>\n",
       "      <td>1</td>\n",
       "    </tr>\n",
       "    <tr>\n",
       "      <th>5</th>\n",
       "      <td>Loyal Customer</td>\n",
       "      <td>1</td>\n",
       "    </tr>\n",
       "    <tr>\n",
       "      <th>...</th>\n",
       "      <td>...</td>\n",
       "      <td>...</td>\n",
       "    </tr>\n",
       "    <tr>\n",
       "      <th>129871</th>\n",
       "      <td>disloyal Customer</td>\n",
       "      <td>0</td>\n",
       "    </tr>\n",
       "    <tr>\n",
       "      <th>129872</th>\n",
       "      <td>disloyal Customer</td>\n",
       "      <td>0</td>\n",
       "    </tr>\n",
       "    <tr>\n",
       "      <th>129873</th>\n",
       "      <td>disloyal Customer</td>\n",
       "      <td>0</td>\n",
       "    </tr>\n",
       "    <tr>\n",
       "      <th>129874</th>\n",
       "      <td>disloyal Customer</td>\n",
       "      <td>0</td>\n",
       "    </tr>\n",
       "    <tr>\n",
       "      <th>129875</th>\n",
       "      <td>disloyal Customer</td>\n",
       "      <td>0</td>\n",
       "    </tr>\n",
       "  </tbody>\n",
       "</table>\n",
       "<p>120591 rows × 2 columns</p>\n",
       "</div>"
      ],
      "text/plain": [
       "            Customer Type  Loyal_customer\n",
       "0          Loyal Customer               1\n",
       "2          Loyal Customer               1\n",
       "3          Loyal Customer               1\n",
       "4          Loyal Customer               1\n",
       "5          Loyal Customer               1\n",
       "...                   ...             ...\n",
       "129871  disloyal Customer               0\n",
       "129872  disloyal Customer               0\n",
       "129873  disloyal Customer               0\n",
       "129874  disloyal Customer               0\n",
       "129875  disloyal Customer               0\n",
       "\n",
       "[120591 rows x 2 columns]"
      ]
     },
     "execution_count": 66,
     "metadata": {},
     "output_type": "execute_result"
    }
   ],
   "source": [
    "df[[\"Customer Type\",\"Loyal_customer\"]]"
   ]
  },
  {
   "cell_type": "markdown",
   "id": "d26bae59-f109-4309-be38-f65f25e3e8c8",
   "metadata": {},
   "source": [
    "* Drop the Customer Type Column."
   ]
  },
  {
   "cell_type": "code",
   "execution_count": 67,
   "id": "7b094760-29c4-462d-9898-125d1bfed1ef",
   "metadata": {},
   "outputs": [],
   "source": [
    "df.drop(\"Customer Type\", axis=1, inplace =True)"
   ]
  },
  {
   "cell_type": "markdown",
   "id": "ac2bac72-357e-492d-88d2-f4ec3ce4f3bd",
   "metadata": {},
   "source": [
    "* unique() is used to find and display the unique values in the \"Type of Travel\" column.\n",
    "* This method returns an array of the unique values present in the \"Type of Travel\" column."
   ]
  },
  {
   "cell_type": "code",
   "execution_count": 68,
   "id": "ce87041e-4039-4bcb-ba17-94f56bd2dc61",
   "metadata": {},
   "outputs": [
    {
     "data": {
      "text/plain": [
       "array(['Personal Travel', 'Business travel'], dtype=object)"
      ]
     },
     "execution_count": 68,
     "metadata": {},
     "output_type": "execute_result"
    }
   ],
   "source": [
    "df[\"Type of Travel\"].unique()"
   ]
  },
  {
   "cell_type": "markdown",
   "id": "9a15f339-b05a-4cc1-a038-adf5bf88c155",
   "metadata": {},
   "source": [
    "* The lambda function checks the first letter of each value(x) in the \"Type of Travel\" column.\n",
    "* If the first letter of 'x' is \"P\" it returns 1 , if it is \"Personal Travel\".\n",
    "* Otherwise, it returns 0, if it is \"Business Travel\"."
   ]
  },
  {
   "cell_type": "code",
   "execution_count": 69,
   "id": "59397cde-0eec-424e-9af3-ca658e0a198d",
   "metadata": {},
   "outputs": [],
   "source": [
    "df[\"Type of Travel\"] = list(map(lambda x: 1 if x[0]==\"P\" else 0, df[\"Type of Travel\"]))"
   ]
  },
  {
   "cell_type": "code",
   "execution_count": 70,
   "id": "35198df4-2527-47e3-8335-de09975d58e0",
   "metadata": {},
   "outputs": [
    {
     "data": {
      "text/html": [
       "<div>\n",
       "<style scoped>\n",
       "    .dataframe tbody tr th:only-of-type {\n",
       "        vertical-align: middle;\n",
       "    }\n",
       "\n",
       "    .dataframe tbody tr th {\n",
       "        vertical-align: top;\n",
       "    }\n",
       "\n",
       "    .dataframe thead th {\n",
       "        text-align: right;\n",
       "    }\n",
       "</style>\n",
       "<table border=\"1\" class=\"dataframe\">\n",
       "  <thead>\n",
       "    <tr style=\"text-align: right;\">\n",
       "      <th></th>\n",
       "      <th>satisfaction</th>\n",
       "      <th>Age</th>\n",
       "      <th>Type of Travel</th>\n",
       "      <th>Class</th>\n",
       "      <th>Flight Distance</th>\n",
       "      <th>Seat comfort</th>\n",
       "      <th>Departure/Arrival time convenient</th>\n",
       "      <th>Food and drink</th>\n",
       "      <th>Gate location</th>\n",
       "      <th>Inflight wifi service</th>\n",
       "      <th>...</th>\n",
       "      <th>On-board service</th>\n",
       "      <th>Leg room service</th>\n",
       "      <th>Baggage handling</th>\n",
       "      <th>Checkin service</th>\n",
       "      <th>Cleanliness</th>\n",
       "      <th>Online boarding</th>\n",
       "      <th>Dept_Delay</th>\n",
       "      <th>Arr_Delay</th>\n",
       "      <th>Male</th>\n",
       "      <th>Loyal_customer</th>\n",
       "    </tr>\n",
       "  </thead>\n",
       "  <tbody>\n",
       "    <tr>\n",
       "      <th>0</th>\n",
       "      <td>satisfied</td>\n",
       "      <td>65</td>\n",
       "      <td>1</td>\n",
       "      <td>Eco</td>\n",
       "      <td>265</td>\n",
       "      <td>0</td>\n",
       "      <td>0</td>\n",
       "      <td>0</td>\n",
       "      <td>2</td>\n",
       "      <td>2</td>\n",
       "      <td>...</td>\n",
       "      <td>3</td>\n",
       "      <td>0</td>\n",
       "      <td>3</td>\n",
       "      <td>5</td>\n",
       "      <td>3</td>\n",
       "      <td>2</td>\n",
       "      <td>0</td>\n",
       "      <td>0</td>\n",
       "      <td>0</td>\n",
       "      <td>1</td>\n",
       "    </tr>\n",
       "    <tr>\n",
       "      <th>2</th>\n",
       "      <td>satisfied</td>\n",
       "      <td>15</td>\n",
       "      <td>1</td>\n",
       "      <td>Eco</td>\n",
       "      <td>2138</td>\n",
       "      <td>0</td>\n",
       "      <td>0</td>\n",
       "      <td>0</td>\n",
       "      <td>3</td>\n",
       "      <td>2</td>\n",
       "      <td>...</td>\n",
       "      <td>3</td>\n",
       "      <td>3</td>\n",
       "      <td>4</td>\n",
       "      <td>4</td>\n",
       "      <td>4</td>\n",
       "      <td>2</td>\n",
       "      <td>0</td>\n",
       "      <td>0</td>\n",
       "      <td>0</td>\n",
       "      <td>1</td>\n",
       "    </tr>\n",
       "    <tr>\n",
       "      <th>3</th>\n",
       "      <td>satisfied</td>\n",
       "      <td>60</td>\n",
       "      <td>1</td>\n",
       "      <td>Eco</td>\n",
       "      <td>623</td>\n",
       "      <td>0</td>\n",
       "      <td>0</td>\n",
       "      <td>0</td>\n",
       "      <td>3</td>\n",
       "      <td>3</td>\n",
       "      <td>...</td>\n",
       "      <td>1</td>\n",
       "      <td>0</td>\n",
       "      <td>1</td>\n",
       "      <td>4</td>\n",
       "      <td>1</td>\n",
       "      <td>3</td>\n",
       "      <td>0</td>\n",
       "      <td>0</td>\n",
       "      <td>0</td>\n",
       "      <td>1</td>\n",
       "    </tr>\n",
       "    <tr>\n",
       "      <th>4</th>\n",
       "      <td>satisfied</td>\n",
       "      <td>70</td>\n",
       "      <td>1</td>\n",
       "      <td>Eco</td>\n",
       "      <td>354</td>\n",
       "      <td>0</td>\n",
       "      <td>0</td>\n",
       "      <td>0</td>\n",
       "      <td>3</td>\n",
       "      <td>4</td>\n",
       "      <td>...</td>\n",
       "      <td>2</td>\n",
       "      <td>0</td>\n",
       "      <td>2</td>\n",
       "      <td>4</td>\n",
       "      <td>2</td>\n",
       "      <td>5</td>\n",
       "      <td>0</td>\n",
       "      <td>0</td>\n",
       "      <td>0</td>\n",
       "      <td>1</td>\n",
       "    </tr>\n",
       "    <tr>\n",
       "      <th>5</th>\n",
       "      <td>satisfied</td>\n",
       "      <td>30</td>\n",
       "      <td>1</td>\n",
       "      <td>Eco</td>\n",
       "      <td>1894</td>\n",
       "      <td>0</td>\n",
       "      <td>0</td>\n",
       "      <td>0</td>\n",
       "      <td>3</td>\n",
       "      <td>2</td>\n",
       "      <td>...</td>\n",
       "      <td>5</td>\n",
       "      <td>4</td>\n",
       "      <td>5</td>\n",
       "      <td>5</td>\n",
       "      <td>4</td>\n",
       "      <td>2</td>\n",
       "      <td>0</td>\n",
       "      <td>0</td>\n",
       "      <td>1</td>\n",
       "      <td>1</td>\n",
       "    </tr>\n",
       "  </tbody>\n",
       "</table>\n",
       "<p>5 rows × 23 columns</p>\n",
       "</div>"
      ],
      "text/plain": [
       "  satisfaction  Age  Type of Travel Class  Flight Distance  Seat comfort  \\\n",
       "0    satisfied   65               1   Eco              265             0   \n",
       "2    satisfied   15               1   Eco             2138             0   \n",
       "3    satisfied   60               1   Eco              623             0   \n",
       "4    satisfied   70               1   Eco              354             0   \n",
       "5    satisfied   30               1   Eco             1894             0   \n",
       "\n",
       "   Departure/Arrival time convenient  Food and drink  Gate location  \\\n",
       "0                                  0               0              2   \n",
       "2                                  0               0              3   \n",
       "3                                  0               0              3   \n",
       "4                                  0               0              3   \n",
       "5                                  0               0              3   \n",
       "\n",
       "   Inflight wifi service  ...  On-board service  Leg room service  \\\n",
       "0                      2  ...                 3                 0   \n",
       "2                      2  ...                 3                 3   \n",
       "3                      3  ...                 1                 0   \n",
       "4                      4  ...                 2                 0   \n",
       "5                      2  ...                 5                 4   \n",
       "\n",
       "   Baggage handling  Checkin service  Cleanliness  Online boarding  \\\n",
       "0                 3                5            3                2   \n",
       "2                 4                4            4                2   \n",
       "3                 1                4            1                3   \n",
       "4                 2                4            2                5   \n",
       "5                 5                5            4                2   \n",
       "\n",
       "   Dept_Delay  Arr_Delay  Male  Loyal_customer  \n",
       "0           0          0     0               1  \n",
       "2           0          0     0               1  \n",
       "3           0          0     0               1  \n",
       "4           0          0     0               1  \n",
       "5           0          0     1               1  \n",
       "\n",
       "[5 rows x 23 columns]"
      ]
     },
     "execution_count": 70,
     "metadata": {},
     "output_type": "execute_result"
    }
   ],
   "source": [
    "df.head()"
   ]
  },
  {
   "cell_type": "markdown",
   "id": "e2087ab6-4991-4c40-b7d1-c1e2b6dd1cca",
   "metadata": {},
   "source": [
    "# Build Model"
   ]
  },
  {
   "cell_type": "markdown",
   "id": "626caedf-c47a-453f-b359-48bc54ddec38",
   "metadata": {},
   "source": [
    "# Using Label Encoder"
   ]
  },
  {
   "cell_type": "markdown",
   "id": "c355b40a-9404-427e-97cc-c85e11a5769f",
   "metadata": {},
   "source": [
    "# Import Library "
   ]
  },
  {
   "cell_type": "code",
   "execution_count": 71,
   "id": "bcb3a9ad-0c8c-4821-b6e9-48f5b91cacaf",
   "metadata": {},
   "outputs": [],
   "source": [
    "from sklearn.preprocessing import LabelEncoder"
   ]
  },
  {
   "cell_type": "code",
   "execution_count": 72,
   "id": "97c68046-89a0-4586-9b59-6f0ce914f1f2",
   "metadata": {},
   "outputs": [],
   "source": [
    "le = LabelEncoder()"
   ]
  },
  {
   "cell_type": "code",
   "execution_count": 73,
   "id": "5f6c51fa-3575-4050-85e6-7526f7c5ad70",
   "metadata": {},
   "outputs": [
    {
     "data": {
      "text/plain": [
       "array([1, 1, 1, ..., 1, 1, 1])"
      ]
     },
     "execution_count": 73,
     "metadata": {},
     "output_type": "execute_result"
    }
   ],
   "source": [
    "le.fit_transform(df[\"Class\"])"
   ]
  },
  {
   "cell_type": "markdown",
   "id": "e1c2ceb6-6446-4c05-8793-89122f1f595f",
   "metadata": {},
   "source": [
    "* le.fit_transform used to encode categorical labels in the \"Class\" column of DataFrame 'df' into numeric form."
   ]
  },
  {
   "cell_type": "code",
   "execution_count": null,
   "id": "f0fbd780-93cb-496f-b08b-7765e5342753",
   "metadata": {},
   "outputs": [],
   "source": [
    "df[\"Class\"]=le.fit_transform(df[\"Class\"])"
   ]
  },
  {
   "cell_type": "code",
   "execution_count": 75,
   "id": "b8892b72-2a38-472a-a0de-9c7da70876fc",
   "metadata": {},
   "outputs": [
    {
     "data": {
      "text/html": [
       "<div>\n",
       "<style scoped>\n",
       "    .dataframe tbody tr th:only-of-type {\n",
       "        vertical-align: middle;\n",
       "    }\n",
       "\n",
       "    .dataframe tbody tr th {\n",
       "        vertical-align: top;\n",
       "    }\n",
       "\n",
       "    .dataframe thead th {\n",
       "        text-align: right;\n",
       "    }\n",
       "</style>\n",
       "<table border=\"1\" class=\"dataframe\">\n",
       "  <thead>\n",
       "    <tr style=\"text-align: right;\">\n",
       "      <th></th>\n",
       "      <th>satisfaction</th>\n",
       "      <th>Age</th>\n",
       "      <th>Type of Travel</th>\n",
       "      <th>Class</th>\n",
       "      <th>Flight Distance</th>\n",
       "      <th>Seat comfort</th>\n",
       "      <th>Departure/Arrival time convenient</th>\n",
       "      <th>Food and drink</th>\n",
       "      <th>Gate location</th>\n",
       "      <th>Inflight wifi service</th>\n",
       "      <th>...</th>\n",
       "      <th>On-board service</th>\n",
       "      <th>Leg room service</th>\n",
       "      <th>Baggage handling</th>\n",
       "      <th>Checkin service</th>\n",
       "      <th>Cleanliness</th>\n",
       "      <th>Online boarding</th>\n",
       "      <th>Dept_Delay</th>\n",
       "      <th>Arr_Delay</th>\n",
       "      <th>Male</th>\n",
       "      <th>Loyal_customer</th>\n",
       "    </tr>\n",
       "  </thead>\n",
       "  <tbody>\n",
       "    <tr>\n",
       "      <th>0</th>\n",
       "      <td>satisfied</td>\n",
       "      <td>65</td>\n",
       "      <td>1</td>\n",
       "      <td>1</td>\n",
       "      <td>265</td>\n",
       "      <td>0</td>\n",
       "      <td>0</td>\n",
       "      <td>0</td>\n",
       "      <td>2</td>\n",
       "      <td>2</td>\n",
       "      <td>...</td>\n",
       "      <td>3</td>\n",
       "      <td>0</td>\n",
       "      <td>3</td>\n",
       "      <td>5</td>\n",
       "      <td>3</td>\n",
       "      <td>2</td>\n",
       "      <td>0</td>\n",
       "      <td>0</td>\n",
       "      <td>0</td>\n",
       "      <td>1</td>\n",
       "    </tr>\n",
       "    <tr>\n",
       "      <th>2</th>\n",
       "      <td>satisfied</td>\n",
       "      <td>15</td>\n",
       "      <td>1</td>\n",
       "      <td>1</td>\n",
       "      <td>2138</td>\n",
       "      <td>0</td>\n",
       "      <td>0</td>\n",
       "      <td>0</td>\n",
       "      <td>3</td>\n",
       "      <td>2</td>\n",
       "      <td>...</td>\n",
       "      <td>3</td>\n",
       "      <td>3</td>\n",
       "      <td>4</td>\n",
       "      <td>4</td>\n",
       "      <td>4</td>\n",
       "      <td>2</td>\n",
       "      <td>0</td>\n",
       "      <td>0</td>\n",
       "      <td>0</td>\n",
       "      <td>1</td>\n",
       "    </tr>\n",
       "    <tr>\n",
       "      <th>3</th>\n",
       "      <td>satisfied</td>\n",
       "      <td>60</td>\n",
       "      <td>1</td>\n",
       "      <td>1</td>\n",
       "      <td>623</td>\n",
       "      <td>0</td>\n",
       "      <td>0</td>\n",
       "      <td>0</td>\n",
       "      <td>3</td>\n",
       "      <td>3</td>\n",
       "      <td>...</td>\n",
       "      <td>1</td>\n",
       "      <td>0</td>\n",
       "      <td>1</td>\n",
       "      <td>4</td>\n",
       "      <td>1</td>\n",
       "      <td>3</td>\n",
       "      <td>0</td>\n",
       "      <td>0</td>\n",
       "      <td>0</td>\n",
       "      <td>1</td>\n",
       "    </tr>\n",
       "    <tr>\n",
       "      <th>4</th>\n",
       "      <td>satisfied</td>\n",
       "      <td>70</td>\n",
       "      <td>1</td>\n",
       "      <td>1</td>\n",
       "      <td>354</td>\n",
       "      <td>0</td>\n",
       "      <td>0</td>\n",
       "      <td>0</td>\n",
       "      <td>3</td>\n",
       "      <td>4</td>\n",
       "      <td>...</td>\n",
       "      <td>2</td>\n",
       "      <td>0</td>\n",
       "      <td>2</td>\n",
       "      <td>4</td>\n",
       "      <td>2</td>\n",
       "      <td>5</td>\n",
       "      <td>0</td>\n",
       "      <td>0</td>\n",
       "      <td>0</td>\n",
       "      <td>1</td>\n",
       "    </tr>\n",
       "    <tr>\n",
       "      <th>5</th>\n",
       "      <td>satisfied</td>\n",
       "      <td>30</td>\n",
       "      <td>1</td>\n",
       "      <td>1</td>\n",
       "      <td>1894</td>\n",
       "      <td>0</td>\n",
       "      <td>0</td>\n",
       "      <td>0</td>\n",
       "      <td>3</td>\n",
       "      <td>2</td>\n",
       "      <td>...</td>\n",
       "      <td>5</td>\n",
       "      <td>4</td>\n",
       "      <td>5</td>\n",
       "      <td>5</td>\n",
       "      <td>4</td>\n",
       "      <td>2</td>\n",
       "      <td>0</td>\n",
       "      <td>0</td>\n",
       "      <td>1</td>\n",
       "      <td>1</td>\n",
       "    </tr>\n",
       "  </tbody>\n",
       "</table>\n",
       "<p>5 rows × 23 columns</p>\n",
       "</div>"
      ],
      "text/plain": [
       "  satisfaction  Age  Type of Travel  Class  Flight Distance  Seat comfort  \\\n",
       "0    satisfied   65               1      1              265             0   \n",
       "2    satisfied   15               1      1             2138             0   \n",
       "3    satisfied   60               1      1              623             0   \n",
       "4    satisfied   70               1      1              354             0   \n",
       "5    satisfied   30               1      1             1894             0   \n",
       "\n",
       "   Departure/Arrival time convenient  Food and drink  Gate location  \\\n",
       "0                                  0               0              2   \n",
       "2                                  0               0              3   \n",
       "3                                  0               0              3   \n",
       "4                                  0               0              3   \n",
       "5                                  0               0              3   \n",
       "\n",
       "   Inflight wifi service  ...  On-board service  Leg room service  \\\n",
       "0                      2  ...                 3                 0   \n",
       "2                      2  ...                 3                 3   \n",
       "3                      3  ...                 1                 0   \n",
       "4                      4  ...                 2                 0   \n",
       "5                      2  ...                 5                 4   \n",
       "\n",
       "   Baggage handling  Checkin service  Cleanliness  Online boarding  \\\n",
       "0                 3                5            3                2   \n",
       "2                 4                4            4                2   \n",
       "3                 1                4            1                3   \n",
       "4                 2                4            2                5   \n",
       "5                 5                5            4                2   \n",
       "\n",
       "   Dept_Delay  Arr_Delay  Male  Loyal_customer  \n",
       "0           0          0     0               1  \n",
       "2           0          0     0               1  \n",
       "3           0          0     0               1  \n",
       "4           0          0     0               1  \n",
       "5           0          0     1               1  \n",
       "\n",
       "[5 rows x 23 columns]"
      ]
     },
     "execution_count": 75,
     "metadata": {},
     "output_type": "execute_result"
    }
   ],
   "source": [
    "df.head()"
   ]
  },
  {
   "cell_type": "code",
   "execution_count": 76,
   "id": "29f724a2-670c-417d-90ce-b7c2009969ad",
   "metadata": {},
   "outputs": [
    {
     "data": {
      "text/plain": [
       "satisfaction                         0\n",
       "Age                                  0\n",
       "Type of Travel                       0\n",
       "Class                                0\n",
       "Flight Distance                      0\n",
       "Seat comfort                         0\n",
       "Departure/Arrival time convenient    0\n",
       "Food and drink                       0\n",
       "Gate location                        0\n",
       "Inflight wifi service                0\n",
       "Inflight entertainment               0\n",
       "Online support                       0\n",
       "Ease of Online booking               0\n",
       "On-board service                     0\n",
       "Leg room service                     0\n",
       "Baggage handling                     0\n",
       "Checkin service                      0\n",
       "Cleanliness                          0\n",
       "Online boarding                      0\n",
       "Dept_Delay                           0\n",
       "Arr_Delay                            0\n",
       "Male                                 0\n",
       "Loyal_customer                       0\n",
       "dtype: int64"
      ]
     },
     "execution_count": 76,
     "metadata": {},
     "output_type": "execute_result"
    }
   ],
   "source": [
    "df.isna().sum()"
   ]
  },
  {
   "cell_type": "markdown",
   "id": "42765839-4cf6-4c41-bce6-d50b270ae0bd",
   "metadata": {},
   "source": [
    "# Train Train Split"
   ]
  },
  {
   "cell_type": "code",
   "execution_count": 77,
   "id": "8409c216-f96d-4a7c-b612-210db4ed32c9",
   "metadata": {},
   "outputs": [],
   "source": [
    "from sklearn.model_selection import train_test_split"
   ]
  },
  {
   "cell_type": "markdown",
   "id": "3a0dd9e9-481e-48e2-84c9-432bc31e1825",
   "metadata": {},
   "source": [
    "* Used to prepare the features and target variable.\n",
    "* Split data into X and y form."
   ]
  },
  {
   "cell_type": "code",
   "execution_count": 78,
   "id": "1da440a8-075b-4f28-b147-dc5a328a60d5",
   "metadata": {},
   "outputs": [],
   "source": [
    "X = df.drop(\"satisfaction\", axis=1)\n",
    "y = df[\"satisfaction\"]"
   ]
  },
  {
   "cell_type": "code",
   "execution_count": 79,
   "id": "cd5e4fa4-099b-4c89-b412-6682f5c774ca",
   "metadata": {},
   "outputs": [],
   "source": [
    "X_train,X_test,y_train,y_test= train_test_split(X,y,train_size = 0.75,random_state =98)"
   ]
  },
  {
   "cell_type": "markdown",
   "id": "b61a5f3a-1dee-433e-a5d6-548f2e04502a",
   "metadata": {},
   "source": [
    "# Logistic Regression "
   ]
  },
  {
   "cell_type": "code",
   "execution_count": 80,
   "id": "287b6d15-0081-4c28-8e4e-293cc048dbc0",
   "metadata": {},
   "outputs": [],
   "source": [
    "from sklearn.linear_model import LogisticRegression"
   ]
  },
  {
   "cell_type": "markdown",
   "id": "803b9fd6-7fdf-413a-b285-80ee041ddd33",
   "metadata": {},
   "source": [
    "* Build model by using Logistic Regression."
   ]
  },
  {
   "cell_type": "code",
   "execution_count": 81,
   "id": "5ed91c4a-4cc0-47bf-93af-9d0fd977ec01",
   "metadata": {},
   "outputs": [],
   "source": [
    "model = LogisticRegression()"
   ]
  },
  {
   "cell_type": "markdown",
   "id": "e479cf14-e08c-495f-aeb5-1f732d0eb0f8",
   "metadata": {},
   "source": [
    "* Model fit into X_train and y_train format."
   ]
  },
  {
   "cell_type": "code",
   "execution_count": 82,
   "id": "35443f85-48b9-4a34-9211-3d5106db2709",
   "metadata": {},
   "outputs": [
    {
     "data": {
      "text/html": [
       "<style>#sk-container-id-1 {\n",
       "  /* Definition of color scheme common for light and dark mode */\n",
       "  --sklearn-color-text: black;\n",
       "  --sklearn-color-line: gray;\n",
       "  /* Definition of color scheme for unfitted estimators */\n",
       "  --sklearn-color-unfitted-level-0: #fff5e6;\n",
       "  --sklearn-color-unfitted-level-1: #f6e4d2;\n",
       "  --sklearn-color-unfitted-level-2: #ffe0b3;\n",
       "  --sklearn-color-unfitted-level-3: chocolate;\n",
       "  /* Definition of color scheme for fitted estimators */\n",
       "  --sklearn-color-fitted-level-0: #f0f8ff;\n",
       "  --sklearn-color-fitted-level-1: #d4ebff;\n",
       "  --sklearn-color-fitted-level-2: #b3dbfd;\n",
       "  --sklearn-color-fitted-level-3: cornflowerblue;\n",
       "\n",
       "  /* Specific color for light theme */\n",
       "  --sklearn-color-text-on-default-background: var(--sg-text-color, var(--theme-code-foreground, var(--jp-content-font-color1, black)));\n",
       "  --sklearn-color-background: var(--sg-background-color, var(--theme-background, var(--jp-layout-color0, white)));\n",
       "  --sklearn-color-border-box: var(--sg-text-color, var(--theme-code-foreground, var(--jp-content-font-color1, black)));\n",
       "  --sklearn-color-icon: #696969;\n",
       "\n",
       "  @media (prefers-color-scheme: dark) {\n",
       "    /* Redefinition of color scheme for dark theme */\n",
       "    --sklearn-color-text-on-default-background: var(--sg-text-color, var(--theme-code-foreground, var(--jp-content-font-color1, white)));\n",
       "    --sklearn-color-background: var(--sg-background-color, var(--theme-background, var(--jp-layout-color0, #111)));\n",
       "    --sklearn-color-border-box: var(--sg-text-color, var(--theme-code-foreground, var(--jp-content-font-color1, white)));\n",
       "    --sklearn-color-icon: #878787;\n",
       "  }\n",
       "}\n",
       "\n",
       "#sk-container-id-1 {\n",
       "  color: var(--sklearn-color-text);\n",
       "}\n",
       "\n",
       "#sk-container-id-1 pre {\n",
       "  padding: 0;\n",
       "}\n",
       "\n",
       "#sk-container-id-1 input.sk-hidden--visually {\n",
       "  border: 0;\n",
       "  clip: rect(1px 1px 1px 1px);\n",
       "  clip: rect(1px, 1px, 1px, 1px);\n",
       "  height: 1px;\n",
       "  margin: -1px;\n",
       "  overflow: hidden;\n",
       "  padding: 0;\n",
       "  position: absolute;\n",
       "  width: 1px;\n",
       "}\n",
       "\n",
       "#sk-container-id-1 div.sk-dashed-wrapped {\n",
       "  border: 1px dashed var(--sklearn-color-line);\n",
       "  margin: 0 0.4em 0.5em 0.4em;\n",
       "  box-sizing: border-box;\n",
       "  padding-bottom: 0.4em;\n",
       "  background-color: var(--sklearn-color-background);\n",
       "}\n",
       "\n",
       "#sk-container-id-1 div.sk-container {\n",
       "  /* jupyter's `normalize.less` sets `[hidden] { display: none; }`\n",
       "     but bootstrap.min.css set `[hidden] { display: none !important; }`\n",
       "     so we also need the `!important` here to be able to override the\n",
       "     default hidden behavior on the sphinx rendered scikit-learn.org.\n",
       "     See: https://github.com/scikit-learn/scikit-learn/issues/21755 */\n",
       "  display: inline-block !important;\n",
       "  position: relative;\n",
       "}\n",
       "\n",
       "#sk-container-id-1 div.sk-text-repr-fallback {\n",
       "  display: none;\n",
       "}\n",
       "\n",
       "div.sk-parallel-item,\n",
       "div.sk-serial,\n",
       "div.sk-item {\n",
       "  /* draw centered vertical line to link estimators */\n",
       "  background-image: linear-gradient(var(--sklearn-color-text-on-default-background), var(--sklearn-color-text-on-default-background));\n",
       "  background-size: 2px 100%;\n",
       "  background-repeat: no-repeat;\n",
       "  background-position: center center;\n",
       "}\n",
       "\n",
       "/* Parallel-specific style estimator block */\n",
       "\n",
       "#sk-container-id-1 div.sk-parallel-item::after {\n",
       "  content: \"\";\n",
       "  width: 100%;\n",
       "  border-bottom: 2px solid var(--sklearn-color-text-on-default-background);\n",
       "  flex-grow: 1;\n",
       "}\n",
       "\n",
       "#sk-container-id-1 div.sk-parallel {\n",
       "  display: flex;\n",
       "  align-items: stretch;\n",
       "  justify-content: center;\n",
       "  background-color: var(--sklearn-color-background);\n",
       "  position: relative;\n",
       "}\n",
       "\n",
       "#sk-container-id-1 div.sk-parallel-item {\n",
       "  display: flex;\n",
       "  flex-direction: column;\n",
       "}\n",
       "\n",
       "#sk-container-id-1 div.sk-parallel-item:first-child::after {\n",
       "  align-self: flex-end;\n",
       "  width: 50%;\n",
       "}\n",
       "\n",
       "#sk-container-id-1 div.sk-parallel-item:last-child::after {\n",
       "  align-self: flex-start;\n",
       "  width: 50%;\n",
       "}\n",
       "\n",
       "#sk-container-id-1 div.sk-parallel-item:only-child::after {\n",
       "  width: 0;\n",
       "}\n",
       "\n",
       "/* Serial-specific style estimator block */\n",
       "\n",
       "#sk-container-id-1 div.sk-serial {\n",
       "  display: flex;\n",
       "  flex-direction: column;\n",
       "  align-items: center;\n",
       "  background-color: var(--sklearn-color-background);\n",
       "  padding-right: 1em;\n",
       "  padding-left: 1em;\n",
       "}\n",
       "\n",
       "\n",
       "/* Toggleable style: style used for estimator/Pipeline/ColumnTransformer box that is\n",
       "clickable and can be expanded/collapsed.\n",
       "- Pipeline and ColumnTransformer use this feature and define the default style\n",
       "- Estimators will overwrite some part of the style using the `sk-estimator` class\n",
       "*/\n",
       "\n",
       "/* Pipeline and ColumnTransformer style (default) */\n",
       "\n",
       "#sk-container-id-1 div.sk-toggleable {\n",
       "  /* Default theme specific background. It is overwritten whether we have a\n",
       "  specific estimator or a Pipeline/ColumnTransformer */\n",
       "  background-color: var(--sklearn-color-background);\n",
       "}\n",
       "\n",
       "/* Toggleable label */\n",
       "#sk-container-id-1 label.sk-toggleable__label {\n",
       "  cursor: pointer;\n",
       "  display: block;\n",
       "  width: 100%;\n",
       "  margin-bottom: 0;\n",
       "  padding: 0.5em;\n",
       "  box-sizing: border-box;\n",
       "  text-align: center;\n",
       "}\n",
       "\n",
       "#sk-container-id-1 label.sk-toggleable__label-arrow:before {\n",
       "  /* Arrow on the left of the label */\n",
       "  content: \"▸\";\n",
       "  float: left;\n",
       "  margin-right: 0.25em;\n",
       "  color: var(--sklearn-color-icon);\n",
       "}\n",
       "\n",
       "#sk-container-id-1 label.sk-toggleable__label-arrow:hover:before {\n",
       "  color: var(--sklearn-color-text);\n",
       "}\n",
       "\n",
       "/* Toggleable content - dropdown */\n",
       "\n",
       "#sk-container-id-1 div.sk-toggleable__content {\n",
       "  max-height: 0;\n",
       "  max-width: 0;\n",
       "  overflow: hidden;\n",
       "  text-align: left;\n",
       "  /* unfitted */\n",
       "  background-color: var(--sklearn-color-unfitted-level-0);\n",
       "}\n",
       "\n",
       "#sk-container-id-1 div.sk-toggleable__content.fitted {\n",
       "  /* fitted */\n",
       "  background-color: var(--sklearn-color-fitted-level-0);\n",
       "}\n",
       "\n",
       "#sk-container-id-1 div.sk-toggleable__content pre {\n",
       "  margin: 0.2em;\n",
       "  border-radius: 0.25em;\n",
       "  color: var(--sklearn-color-text);\n",
       "  /* unfitted */\n",
       "  background-color: var(--sklearn-color-unfitted-level-0);\n",
       "}\n",
       "\n",
       "#sk-container-id-1 div.sk-toggleable__content.fitted pre {\n",
       "  /* unfitted */\n",
       "  background-color: var(--sklearn-color-fitted-level-0);\n",
       "}\n",
       "\n",
       "#sk-container-id-1 input.sk-toggleable__control:checked~div.sk-toggleable__content {\n",
       "  /* Expand drop-down */\n",
       "  max-height: 200px;\n",
       "  max-width: 100%;\n",
       "  overflow: auto;\n",
       "}\n",
       "\n",
       "#sk-container-id-1 input.sk-toggleable__control:checked~label.sk-toggleable__label-arrow:before {\n",
       "  content: \"▾\";\n",
       "}\n",
       "\n",
       "/* Pipeline/ColumnTransformer-specific style */\n",
       "\n",
       "#sk-container-id-1 div.sk-label input.sk-toggleable__control:checked~label.sk-toggleable__label {\n",
       "  color: var(--sklearn-color-text);\n",
       "  background-color: var(--sklearn-color-unfitted-level-2);\n",
       "}\n",
       "\n",
       "#sk-container-id-1 div.sk-label.fitted input.sk-toggleable__control:checked~label.sk-toggleable__label {\n",
       "  background-color: var(--sklearn-color-fitted-level-2);\n",
       "}\n",
       "\n",
       "/* Estimator-specific style */\n",
       "\n",
       "/* Colorize estimator box */\n",
       "#sk-container-id-1 div.sk-estimator input.sk-toggleable__control:checked~label.sk-toggleable__label {\n",
       "  /* unfitted */\n",
       "  background-color: var(--sklearn-color-unfitted-level-2);\n",
       "}\n",
       "\n",
       "#sk-container-id-1 div.sk-estimator.fitted input.sk-toggleable__control:checked~label.sk-toggleable__label {\n",
       "  /* fitted */\n",
       "  background-color: var(--sklearn-color-fitted-level-2);\n",
       "}\n",
       "\n",
       "#sk-container-id-1 div.sk-label label.sk-toggleable__label,\n",
       "#sk-container-id-1 div.sk-label label {\n",
       "  /* The background is the default theme color */\n",
       "  color: var(--sklearn-color-text-on-default-background);\n",
       "}\n",
       "\n",
       "/* On hover, darken the color of the background */\n",
       "#sk-container-id-1 div.sk-label:hover label.sk-toggleable__label {\n",
       "  color: var(--sklearn-color-text);\n",
       "  background-color: var(--sklearn-color-unfitted-level-2);\n",
       "}\n",
       "\n",
       "/* Label box, darken color on hover, fitted */\n",
       "#sk-container-id-1 div.sk-label.fitted:hover label.sk-toggleable__label.fitted {\n",
       "  color: var(--sklearn-color-text);\n",
       "  background-color: var(--sklearn-color-fitted-level-2);\n",
       "}\n",
       "\n",
       "/* Estimator label */\n",
       "\n",
       "#sk-container-id-1 div.sk-label label {\n",
       "  font-family: monospace;\n",
       "  font-weight: bold;\n",
       "  display: inline-block;\n",
       "  line-height: 1.2em;\n",
       "}\n",
       "\n",
       "#sk-container-id-1 div.sk-label-container {\n",
       "  text-align: center;\n",
       "}\n",
       "\n",
       "/* Estimator-specific */\n",
       "#sk-container-id-1 div.sk-estimator {\n",
       "  font-family: monospace;\n",
       "  border: 1px dotted var(--sklearn-color-border-box);\n",
       "  border-radius: 0.25em;\n",
       "  box-sizing: border-box;\n",
       "  margin-bottom: 0.5em;\n",
       "  /* unfitted */\n",
       "  background-color: var(--sklearn-color-unfitted-level-0);\n",
       "}\n",
       "\n",
       "#sk-container-id-1 div.sk-estimator.fitted {\n",
       "  /* fitted */\n",
       "  background-color: var(--sklearn-color-fitted-level-0);\n",
       "}\n",
       "\n",
       "/* on hover */\n",
       "#sk-container-id-1 div.sk-estimator:hover {\n",
       "  /* unfitted */\n",
       "  background-color: var(--sklearn-color-unfitted-level-2);\n",
       "}\n",
       "\n",
       "#sk-container-id-1 div.sk-estimator.fitted:hover {\n",
       "  /* fitted */\n",
       "  background-color: var(--sklearn-color-fitted-level-2);\n",
       "}\n",
       "\n",
       "/* Specification for estimator info (e.g. \"i\" and \"?\") */\n",
       "\n",
       "/* Common style for \"i\" and \"?\" */\n",
       "\n",
       ".sk-estimator-doc-link,\n",
       "a:link.sk-estimator-doc-link,\n",
       "a:visited.sk-estimator-doc-link {\n",
       "  float: right;\n",
       "  font-size: smaller;\n",
       "  line-height: 1em;\n",
       "  font-family: monospace;\n",
       "  background-color: var(--sklearn-color-background);\n",
       "  border-radius: 1em;\n",
       "  height: 1em;\n",
       "  width: 1em;\n",
       "  text-decoration: none !important;\n",
       "  margin-left: 1ex;\n",
       "  /* unfitted */\n",
       "  border: var(--sklearn-color-unfitted-level-1) 1pt solid;\n",
       "  color: var(--sklearn-color-unfitted-level-1);\n",
       "}\n",
       "\n",
       ".sk-estimator-doc-link.fitted,\n",
       "a:link.sk-estimator-doc-link.fitted,\n",
       "a:visited.sk-estimator-doc-link.fitted {\n",
       "  /* fitted */\n",
       "  border: var(--sklearn-color-fitted-level-1) 1pt solid;\n",
       "  color: var(--sklearn-color-fitted-level-1);\n",
       "}\n",
       "\n",
       "/* On hover */\n",
       "div.sk-estimator:hover .sk-estimator-doc-link:hover,\n",
       ".sk-estimator-doc-link:hover,\n",
       "div.sk-label-container:hover .sk-estimator-doc-link:hover,\n",
       ".sk-estimator-doc-link:hover {\n",
       "  /* unfitted */\n",
       "  background-color: var(--sklearn-color-unfitted-level-3);\n",
       "  color: var(--sklearn-color-background);\n",
       "  text-decoration: none;\n",
       "}\n",
       "\n",
       "div.sk-estimator.fitted:hover .sk-estimator-doc-link.fitted:hover,\n",
       ".sk-estimator-doc-link.fitted:hover,\n",
       "div.sk-label-container:hover .sk-estimator-doc-link.fitted:hover,\n",
       ".sk-estimator-doc-link.fitted:hover {\n",
       "  /* fitted */\n",
       "  background-color: var(--sklearn-color-fitted-level-3);\n",
       "  color: var(--sklearn-color-background);\n",
       "  text-decoration: none;\n",
       "}\n",
       "\n",
       "/* Span, style for the box shown on hovering the info icon */\n",
       ".sk-estimator-doc-link span {\n",
       "  display: none;\n",
       "  z-index: 9999;\n",
       "  position: relative;\n",
       "  font-weight: normal;\n",
       "  right: .2ex;\n",
       "  padding: .5ex;\n",
       "  margin: .5ex;\n",
       "  width: min-content;\n",
       "  min-width: 20ex;\n",
       "  max-width: 50ex;\n",
       "  color: var(--sklearn-color-text);\n",
       "  box-shadow: 2pt 2pt 4pt #999;\n",
       "  /* unfitted */\n",
       "  background: var(--sklearn-color-unfitted-level-0);\n",
       "  border: .5pt solid var(--sklearn-color-unfitted-level-3);\n",
       "}\n",
       "\n",
       ".sk-estimator-doc-link.fitted span {\n",
       "  /* fitted */\n",
       "  background: var(--sklearn-color-fitted-level-0);\n",
       "  border: var(--sklearn-color-fitted-level-3);\n",
       "}\n",
       "\n",
       ".sk-estimator-doc-link:hover span {\n",
       "  display: block;\n",
       "}\n",
       "\n",
       "/* \"?\"-specific style due to the `<a>` HTML tag */\n",
       "\n",
       "#sk-container-id-1 a.estimator_doc_link {\n",
       "  float: right;\n",
       "  font-size: 1rem;\n",
       "  line-height: 1em;\n",
       "  font-family: monospace;\n",
       "  background-color: var(--sklearn-color-background);\n",
       "  border-radius: 1rem;\n",
       "  height: 1rem;\n",
       "  width: 1rem;\n",
       "  text-decoration: none;\n",
       "  /* unfitted */\n",
       "  color: var(--sklearn-color-unfitted-level-1);\n",
       "  border: var(--sklearn-color-unfitted-level-1) 1pt solid;\n",
       "}\n",
       "\n",
       "#sk-container-id-1 a.estimator_doc_link.fitted {\n",
       "  /* fitted */\n",
       "  border: var(--sklearn-color-fitted-level-1) 1pt solid;\n",
       "  color: var(--sklearn-color-fitted-level-1);\n",
       "}\n",
       "\n",
       "/* On hover */\n",
       "#sk-container-id-1 a.estimator_doc_link:hover {\n",
       "  /* unfitted */\n",
       "  background-color: var(--sklearn-color-unfitted-level-3);\n",
       "  color: var(--sklearn-color-background);\n",
       "  text-decoration: none;\n",
       "}\n",
       "\n",
       "#sk-container-id-1 a.estimator_doc_link.fitted:hover {\n",
       "  /* fitted */\n",
       "  background-color: var(--sklearn-color-fitted-level-3);\n",
       "}\n",
       "</style><div id=\"sk-container-id-1\" class=\"sk-top-container\"><div class=\"sk-text-repr-fallback\"><pre>LogisticRegression()</pre><b>In a Jupyter environment, please rerun this cell to show the HTML representation or trust the notebook. <br />On GitHub, the HTML representation is unable to render, please try loading this page with nbviewer.org.</b></div><div class=\"sk-container\" hidden><div class=\"sk-item\"><div class=\"sk-estimator fitted sk-toggleable\"><input class=\"sk-toggleable__control sk-hidden--visually\" id=\"sk-estimator-id-1\" type=\"checkbox\" checked><label for=\"sk-estimator-id-1\" class=\"sk-toggleable__label fitted sk-toggleable__label-arrow fitted\">&nbsp;&nbsp;LogisticRegression<a class=\"sk-estimator-doc-link fitted\" rel=\"noreferrer\" target=\"_blank\" href=\"https://scikit-learn.org/1.4/modules/generated/sklearn.linear_model.LogisticRegression.html\">?<span>Documentation for LogisticRegression</span></a><span class=\"sk-estimator-doc-link fitted\">i<span>Fitted</span></span></label><div class=\"sk-toggleable__content fitted\"><pre>LogisticRegression()</pre></div> </div></div></div></div>"
      ],
      "text/plain": [
       "LogisticRegression()"
      ]
     },
     "execution_count": 82,
     "metadata": {},
     "output_type": "execute_result"
    }
   ],
   "source": [
    "model.fit(X_train,y_train)"
   ]
  },
  {
   "cell_type": "markdown",
   "id": "bfa1ed13-23a4-44fa-98ae-78d4f916ad4d",
   "metadata": {},
   "source": [
    "* Predict the model."
   ]
  },
  {
   "cell_type": "code",
   "execution_count": 83,
   "id": "fc70977d-91a1-4c0e-bd9b-e895cf5237c2",
   "metadata": {},
   "outputs": [],
   "source": [
    "y_pred = model.predict(X_test)"
   ]
  },
  {
   "cell_type": "code",
   "execution_count": 84,
   "id": "d457e5ed-b27e-4d95-bf3e-1f6c8a7c1fcd",
   "metadata": {},
   "outputs": [],
   "source": [
    "from sklearn.metrics import accuracy_score,classification_report,confusion_matrix"
   ]
  },
  {
   "cell_type": "markdown",
   "id": "74a02ebf-603d-4505-9fca-19349ee78141",
   "metadata": {},
   "source": [
    "* Check the accuracy score of y_test and y_pred.\n",
    "* It is used to evaluate the Performance of a classification model by measuring the model is correctly predicts the target variale."
   ]
  },
  {
   "cell_type": "code",
   "execution_count": 85,
   "id": "611267ea-8bd3-4918-adc9-5bc3212f4f83",
   "metadata": {},
   "outputs": [
    {
     "data": {
      "text/plain": [
       "0.780317102295343"
      ]
     },
     "execution_count": 85,
     "metadata": {},
     "output_type": "execute_result"
    }
   ],
   "source": [
    "accuracy_score(y_test,y_pred)"
   ]
  },
  {
   "cell_type": "markdown",
   "id": "c5c59a47-dc30-4a7f-86d6-38fc34099de5",
   "metadata": {},
   "source": [
    "* Confusion matrix is used describe performance of a classification model on the set of test data for which the true values are known."
   ]
  },
  {
   "cell_type": "code",
   "execution_count": 86,
   "id": "6b60b207-42f8-4ac7-9b1b-ed6170db38c9",
   "metadata": {},
   "outputs": [
    {
     "data": {
      "text/plain": [
       "array([[ 9323,  4176],\n",
       "       [ 2447, 14202]], dtype=int64)"
      ]
     },
     "execution_count": 86,
     "metadata": {},
     "output_type": "execute_result"
    }
   ],
   "source": [
    "confusion_matrix(y_test,y_pred)"
   ]
  },
  {
   "cell_type": "markdown",
   "id": "ca8b8e24-6eb2-43de-82b5-d379548df511",
   "metadata": {},
   "source": [
    "* To check the classification report of the DataFrame."
   ]
  },
  {
   "cell_type": "code",
   "execution_count": 87,
   "id": "71d5be8a-254c-48d3-8d42-178e1a1968a9",
   "metadata": {},
   "outputs": [
    {
     "name": "stdout",
     "output_type": "stream",
     "text": [
      "              precision    recall  f1-score   support\n",
      "\n",
      "dissatisfied       0.79      0.69      0.74     13499\n",
      "   satisfied       0.77      0.85      0.81     16649\n",
      "\n",
      "    accuracy                           0.78     30148\n",
      "   macro avg       0.78      0.77      0.77     30148\n",
      "weighted avg       0.78      0.78      0.78     30148\n",
      "\n"
     ]
    }
   ],
   "source": [
    "print(classification_report(y_test,y_pred))"
   ]
  },
  {
   "cell_type": "markdown",
   "id": "b93a4e2d-6a7c-4ae7-9bcb-458ac97c1433",
   "metadata": {},
   "source": [
    "* To check the model score."
   ]
  },
  {
   "cell_type": "code",
   "execution_count": 88,
   "id": "969ae7fd-ce53-4939-a546-710821be4450",
   "metadata": {},
   "outputs": [
    {
     "data": {
      "text/plain": [
       "0.7853012394546842"
      ]
     },
     "execution_count": 88,
     "metadata": {},
     "output_type": "execute_result"
    }
   ],
   "source": [
    "model.score(X_train,y_train)"
   ]
  },
  {
   "cell_type": "markdown",
   "id": "7506789b-7d91-43f3-9b84-c7f0510afbed",
   "metadata": {},
   "source": [
    "# Result\n",
    "* We use LogisticRegression for our Model.\n",
    "* Accuarcy Score of Logistic Regression is 78% and score is 78%."
   ]
  },
  {
   "cell_type": "code",
   "execution_count": null,
   "id": "29af2f3d-a907-46b7-8e17-fa675bd1ceb9",
   "metadata": {},
   "outputs": [],
   "source": []
  }
 ],
 "metadata": {
  "kernelspec": {
   "display_name": "Python 3 (ipykernel)",
   "language": "python",
   "name": "python3"
  },
  "language_info": {
   "codemirror_mode": {
    "name": "ipython",
    "version": 3
   },
   "file_extension": ".py",
   "mimetype": "text/x-python",
   "name": "python",
   "nbconvert_exporter": "python",
   "pygments_lexer": "ipython3",
   "version": "3.11.9"
  }
 },
 "nbformat": 4,
 "nbformat_minor": 5
}
