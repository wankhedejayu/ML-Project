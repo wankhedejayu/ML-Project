{
 "cells": [
  {
   "cell_type": "code",
   "execution_count": 1,
   "id": "341eb1bf-2eca-4bef-84c1-1a41776b08d2",
   "metadata": {},
   "outputs": [],
   "source": [
    "def dfs(graph, start, target, visited=None, path=None):\n",
    "    if visited == None:\n",
    "        visited = set()\n",
    "    if path == None:\n",
    "        path=[]\n",
    "\n",
    "    visited.add(start)\n",
    "    path.append(start)\n",
    "    print(path)\n",
    "\n",
    "    if target == start:\n",
    "        return f\"Final Path -->{path}\"\n",
    "\n",
    "    for neighbors in graph[start]:\n",
    "        if neighbors not in visited:\n",
    "            new_path = dfs(graph, neighbors, target, visited, path.copy())\n",
    "            if new_path:\n",
    "                return new_path"
   ]
  },
  {
   "cell_type": "code",
   "execution_count": 2,
   "id": "6f00accd-0412-4942-9f43-ecbde3d39be0",
   "metadata": {},
   "outputs": [],
   "source": [
    "new_graph = {\n",
    "    \"A\":[\"B\", \"C\"],\n",
    "    \"B\":[\"D\", \"E\"],\n",
    "    \"C\":[\"F\", \"G\"],\n",
    "    \"D\":[\"H\"],\n",
    "    \"E\":[\"I\", \"J\"],\n",
    "    \"F\":[\"K\"],\n",
    "    \"G\":[\"L\", \"M\", \"N\"],\n",
    "    \"H\":[], \"I\":[], \"J\":[], \"K\":[], \"L\":[], \"M\":[], \"N\":[],\n",
    "}"
   ]
  },
  {
   "cell_type": "code",
   "execution_count": 3,
   "id": "12b31515-7040-4211-b780-875060710f83",
   "metadata": {},
   "outputs": [
    {
     "name": "stdout",
     "output_type": "stream",
     "text": [
      "['A']\n",
      "['A', 'B']\n",
      "['A', 'B', 'D']\n",
      "['A', 'B', 'D', 'H']\n",
      "['A', 'B', 'E']\n",
      "['A', 'B', 'E', 'I']\n",
      "['A', 'B', 'E', 'J']\n",
      "['A', 'C']\n",
      "['A', 'C', 'F']\n",
      "['A', 'C', 'F', 'K']\n"
     ]
    },
    {
     "data": {
      "text/plain": [
       "\"Final Path -->['A', 'C', 'F', 'K']\""
      ]
     },
     "execution_count": 3,
     "metadata": {},
     "output_type": "execute_result"
    }
   ],
   "source": [
    "dfs(new_graph, \"A\", \"K\")"
   ]
  },
  {
   "cell_type": "markdown",
   "id": "e47df40b-6fb8-4e97-9541-e802cccd7c87",
   "metadata": {},
   "source": [
    "# Example No 2"
   ]
  },
  {
   "cell_type": "code",
   "execution_count": 4,
   "id": "f681f7c3-6f76-4373-a994-05361b8dd1e8",
   "metadata": {},
   "outputs": [],
   "source": [
    "def dfs (graph, start, target, visited=None, path=None):\n",
    "    if visited ==None:\n",
    "        visited=set()\n",
    "    if path == None:\n",
    "        path=[]\n",
    "\n",
    "    visited.add(start)\n",
    "    path.append(start)\n",
    "    print(path)\n",
    "\n",
    "    if target==start:\n",
    "        return f\"Final Path -->{path}\"\n",
    "\n",
    "    for neighbors in graph[start]:\n",
    "        if neighbors not in visited:\n",
    "            new_path=dfs(graph, neighbors, target, visited, path.copy())\n",
    "            if new_path:\n",
    "                return new_path"
   ]
  },
  {
   "cell_type": "code",
   "execution_count": 5,
   "id": "6ccbb32e-ea3d-4c5b-8a6d-85b164da3716",
   "metadata": {},
   "outputs": [],
   "source": [
    "new_graph = {\n",
    "    \"A\":[\"B\",\"C\",\"D\"],\n",
    "    \"B\":[\"E\",\"F\"],\n",
    "    \"C\":[\"G\",\"H\",\"I\"],\n",
    "    \"D\":[\"J\", \"K\"], \n",
    "    \"E\":[\"L\"],\n",
    "    \"F\":[\"M\", \"N\"],\n",
    "    \"G\":[],\n",
    "    \"H\":[\"O\"],\n",
    "    \"I\":[\"P\", \"Q\"],\n",
    "    \"J\":[], \"K\":[], \"L\":[], \"M\":[], \"N\":[], \"O\":[], \"P\":[], \"Q\":[],\n",
    "    \n",
    "}"
   ]
  },
  {
   "cell_type": "code",
   "execution_count": 7,
   "id": "d4a7f6ab-f553-4ab7-81df-6cf0a800d68d",
   "metadata": {},
   "outputs": [
    {
     "name": "stdout",
     "output_type": "stream",
     "text": [
      "['A']\n",
      "['A', 'B']\n",
      "['A', 'B', 'E']\n",
      "['A', 'B', 'E', 'L']\n",
      "['A', 'B', 'F']\n",
      "['A', 'B', 'F', 'M']\n",
      "['A', 'B', 'F', 'N']\n",
      "['A', 'C']\n",
      "['A', 'C', 'G']\n",
      "['A', 'C', 'H']\n",
      "['A', 'C', 'H', 'O']\n",
      "['A', 'C', 'I']\n",
      "['A', 'C', 'I', 'P']\n",
      "['A', 'C', 'I', 'Q']\n"
     ]
    },
    {
     "data": {
      "text/plain": [
       "\"Final Path -->['A', 'C', 'I', 'Q']\""
      ]
     },
     "execution_count": 7,
     "metadata": {},
     "output_type": "execute_result"
    }
   ],
   "source": [
    "dfs(new_graph, \"A\", \"Q\")"
   ]
  },
  {
   "cell_type": "code",
   "execution_count": null,
   "id": "cb20d9a4-fab2-4ba8-ae9f-eb11f986ac85",
   "metadata": {},
   "outputs": [],
   "source": []
  }
 ],
 "metadata": {
  "kernelspec": {
   "display_name": "Python 3 (ipykernel)",
   "language": "python",
   "name": "python3"
  },
  "language_info": {
   "codemirror_mode": {
    "name": "ipython",
    "version": 3
   },
   "file_extension": ".py",
   "mimetype": "text/x-python",
   "name": "python",
   "nbconvert_exporter": "python",
   "pygments_lexer": "ipython3",
   "version": "3.12.0"
  }
 },
 "nbformat": 4,
 "nbformat_minor": 5
}
